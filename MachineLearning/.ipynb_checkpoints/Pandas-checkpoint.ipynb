{
 "cells": [
  {
   "cell_type": "code",
   "execution_count": 1,
   "id": "ea1aaab2",
   "metadata": {},
   "outputs": [],
   "source": [
    "import numpy as np\n",
    "import matplotlib as plt\n",
    "import pandas as pd"
   ]
  },
  {
   "cell_type": "code",
   "execution_count": null,
   "id": "62c4e78c",
   "metadata": {},
   "outputs": [],
   "source": [
    "#es lettura del file \n",
    "voti = pd.read_csv(\"registro_voti.csv\")\n",
    "print(\"dati nulli\\n\",voti.isna().sum)\n",
    "print(\"Dati non nulli\\n\", voti.notna().sum())\n",
    "print(\"Dati non nulli\\n\", voti.count())\n",
    "voti.info()"
   ]
  }
 ],
 "metadata": {
  "kernelspec": {
   "display_name": "Python 3 (ipykernel)",
   "language": "python",
   "name": "python3"
  },
  "language_info": {
   "codemirror_mode": {
    "name": "ipython",
    "version": 3
   },
   "file_extension": ".py",
   "mimetype": "text/x-python",
   "name": "python",
   "nbconvert_exporter": "python",
   "pygments_lexer": "ipython3",
   "version": "3.10.2"
  }
 },
 "nbformat": 4,
 "nbformat_minor": 5
}
