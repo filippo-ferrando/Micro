{
 "cells": [
  {
   "cell_type": "markdown",
   "id": "a896cf9c",
   "metadata": {},
   "source": [
    "# While"
   ]
  },
  {
   "cell_type": "code",
   "execution_count": 1,
   "id": "bd30ecb4",
   "metadata": {},
   "outputs": [
    {
     "name": "stdout",
     "output_type": "stream",
     "text": [
      "Inserisci lo score: 7\n",
      "Complimenti, il tuo modello funziona\n"
     ]
    }
   ],
   "source": [
    "score = 0.0\n",
    "while score < 0.6:\n",
    "    stringa = input(\"Inserisci lo score: \")\n",
    "    score = float(stringa)\n",
    "print(\"Complimenti, il tuo modello funziona\")"
   ]
  },
  {
   "cell_type": "markdown",
   "id": "a4025a56",
   "metadata": {},
   "source": [
    "# For"
   ]
  },
  {
   "cell_type": "code",
   "execution_count": 5,
   "id": "b1e02413",
   "metadata": {},
   "outputs": [
    {
     "name": "stdout",
     "output_type": "stream",
     "text": [
      "I-n-t-e-l-l-i-g-e-n-z-a- -A-r-t-i-f-i-c-i-a-l-e\n"
     ]
    }
   ],
   "source": [
    "stringa = \"Intelligenza Artificiale\"\n",
    "for c in stringa[:-1]:\n",
    "    print(c, end=\"-\")\n",
    "print(stringa[-1])"
   ]
  },
  {
   "cell_type": "code",
   "execution_count": 21,
   "id": "82e19498",
   "metadata": {},
   "outputs": [
    {
     "name": "stdout",
     "output_type": "stream",
     "text": [
      "Sito n^1 Nome sito: www.kaggle.com Dominio: com\n",
      "Sito n^2 Nome sito: www.wikipedia.org Dominio: org\n",
      "Sito n^3 Nome sito: numpy.org Dominio: org\n",
      "Sito n^4 Nome sito: www.python.org Dominio: org\n"
     ]
    }
   ],
   "source": [
    "bookmarks = [\"www.kaggle.com\", \"www.wikipedia.org\", \"numpy.org\", \"www.python.org\"]\n",
    "cnt = 0\n",
    "for elements in bookmarks:\n",
    "    cnt += 1\n",
    "    print(f'Sito n^{cnt} Nome sito: {elements} Dominio: {elements.split(\".\")[-1]}')\n",
    "    \n"
   ]
  },
  {
   "cell_type": "code",
   "execution_count": 24,
   "id": "cebb9808",
   "metadata": {},
   "outputs": [
    {
     "name": "stdout",
     "output_type": "stream",
     "text": [
      "Sito n^1 Nome sito: www.kaggle.com Dominio: com\n",
      "Sito n^2 Nome sito: www.wikipedia.org Dominio: org\n",
      "Sito n^3 Nome sito: numpy.org Dominio: org\n",
      "Sito n^4 Nome sito: www.python.org Dominio: org\n"
     ]
    }
   ],
   "source": [
    "bookmarks = [\"www.kaggle.com\", \"www.wikipedia.org\", \"numpy.org\", \"www.python.org\"]\n",
    "cnt = 0\n",
    "for cnt, elements in enumerate(bookmarks):\n",
    "    print(f'Sito n^{cnt+1} Nome sito: {elements} Dominio: {elements.split(\".\")[-1]}')\n",
    "    "
   ]
  },
  {
   "cell_type": "code",
   "execution_count": 25,
   "id": "5fd2cd82",
   "metadata": {},
   "outputs": [
    {
     "name": "stdout",
     "output_type": "stream",
     "text": [
      "Nome Chiave: nome - Valore: Random Forest\n",
      "Nome Chiave: punteggio - Valore: 78.5\n",
      "Nome Chiave: numero di feature - Valore: 2\n"
     ]
    }
   ],
   "source": [
    "modello = {\"nome\": \"Random Forest\", \"punteggio\": 78.5, \"numero di feature\": 2}\n",
    "for chiave, valore in modello.items():\n",
    "    print(f'Nome Chiave: {chiave} - Valore: {valore}')"
   ]
  },
  {
   "cell_type": "code",
   "execution_count": null,
   "id": "0192eb5f",
   "metadata": {},
   "outputs": [],
   "source": []
  }
 ],
 "metadata": {
  "kernelspec": {
   "display_name": "Python 3 (ipykernel)",
   "language": "python",
   "name": "python3"
  },
  "language_info": {
   "codemirror_mode": {
    "name": "ipython",
    "version": 3
   },
   "file_extension": ".py",
   "mimetype": "text/x-python",
   "name": "python",
   "nbconvert_exporter": "python",
   "pygments_lexer": "ipython3",
   "version": "3.9.7"
  }
 },
 "nbformat": 4,
 "nbformat_minor": 5
}
