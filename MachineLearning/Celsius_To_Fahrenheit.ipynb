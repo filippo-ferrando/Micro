{
 "cells": [
  {
   "cell_type": "markdown",
   "id": "e55d3b91",
   "metadata": {},
   "source": [
    "# Addestriamo una rete per convertire i gradi Celsius in gradi Fahrenheit\n",
    "## Fahrenheit = 32 + 1.8 * Celsius"
   ]
  },
  {
   "cell_type": "code",
   "execution_count": 14,
   "id": "3a9f6f7f",
   "metadata": {},
   "outputs": [],
   "source": [
    "from sklearn import datasets\n",
    "import pandas as pd\n",
    "import seaborn as sns\n",
    "import numpy as np"
   ]
  },
  {
   "cell_type": "code",
   "execution_count": 15,
   "id": "f6f35b3a",
   "metadata": {},
   "outputs": [
    {
     "name": "stdout",
     "output_type": "stream",
     "text": [
      "[38.92053766 42.48668147 44.50668886 36.07557259 32.86235471 35.70974392\n",
      " 30.10250824 42.64039504 33.11444807 45.20270876 48.92486639 41.5884615\n",
      " 35.06920984 38.82339077 31.24692039 40.03264872 36.41633078 44.3726623\n",
      " 42.71509147 44.72472211 43.16495299 31.390766   45.70367558 41.47686059\n",
      " 39.53280083 30.98026349 35.91576856 38.76820933 31.57169628 43.12389821\n",
      " 32.71846976 40.34665812 42.98769766 37.53096152 33.90501531 30.96103588\n",
      " 42.86401275 46.94562186 44.67339892 40.02719201 47.83091433 43.8580406\n",
      " 41.8936086  48.2458764  32.85083157 35.83697568 35.20935191 38.37366599\n",
      " 41.46502869 34.16025635 44.86860721 30.38415839 40.95563031 35.26788597\n",
      " 45.30649189 44.9585367  44.00640007 39.52397385 31.53848195 39.49301302\n",
      " 36.73586165 42.33483765 41.93152824 39.40122718 32.0298752  30.99419155\n",
      " 34.67276213 49.09544662 49.07074653 31.71247985 33.0047854  45.81354767\n",
      " 31.46010279 34.85150009 46.74165124 30.49533104 36.91028103 48.95133095\n",
      " 34.20175322 33.61285641 32.48183681 34.63915729 45.82508247 32.39060889\n",
      " 43.09098445 38.93404839 47.00918278 36.11551267 39.50856556 30.92162933\n",
      " 41.61743739 44.79509728 42.80815859 41.18960533 45.5712567  40.46220897\n",
      " 45.46614131 35.98878456 38.33651505 40.83693101]\n"
     ]
    }
   ],
   "source": [
    "n_campioni = 100\n",
    "celsius = np.random.uniform(30,50,n_campioni)\n",
    "print(celsius)"
   ]
  },
  {
   "cell_type": "code",
   "execution_count": 16,
   "id": "1c72fa78",
   "metadata": {},
   "outputs": [
    {
     "name": "stdout",
     "output_type": "stream",
     "text": [
      "[102.0569678  108.47602664 112.11203994  96.93603066  91.15223848\n",
      "  96.27753906  86.18451483 108.75271107  91.60600652 113.36487576\n",
      " 120.06475951 106.8592307   95.12457771 101.88210339  88.24445671\n",
      " 104.05876769  97.5493954  111.87079214 108.88716465 112.5044998\n",
      " 109.69691537  88.50337881 114.26661605 106.65834906 103.1590415\n",
      "  87.76447428  96.64838341 101.7827768   88.8290533  109.62301677\n",
      "  90.89324557 104.62398461 109.37785579  99.55573073  93.02902756\n",
      "  87.72986459 109.15522295 116.50211934 112.41211805 104.04894561\n",
      " 118.09564579 110.94447307 107.40849548 118.84257753  91.13149683\n",
      "  96.50655623  95.37683343 101.07259879 106.63705165  93.48846143\n",
      " 112.76349297  86.6914851  105.72013456  95.48219474 113.5516854\n",
      " 112.92536606 111.21152013 103.14315293  88.7692675  103.08742344\n",
      "  98.12455097 108.20270778 107.47675084 102.92220893  89.65377536\n",
      "  87.7895448   94.41097184 120.37180392 120.32734375  89.08246372\n",
      "  91.40861371 114.46438581  88.62818503  94.73270017 116.13497224\n",
      "  86.89159587  98.43850585 120.11239571  93.5631558   92.50314154\n",
      "  90.46730626  94.35048311 114.48514845  90.303096   109.56377202\n",
      " 102.0812871  116.616529    97.00792281 103.11541801  87.65893279\n",
      " 106.91138731 112.6311751  109.05468546 106.14128959 114.02826207\n",
      " 104.83197614 113.83905435  96.77981222 101.00572709 105.50647583]\n"
     ]
    }
   ],
   "source": [
    "fahrenheit = 32 + 1.8*celsius\n",
    "print(fahrenheit)"
   ]
  },
  {
   "cell_type": "code",
   "execution_count": 17,
   "id": "180c001e",
   "metadata": {},
   "outputs": [
    {
     "name": "stdout",
     "output_type": "stream",
     "text": [
      "[[38.92053766]\n",
      " [42.48668147]\n",
      " [44.50668886]\n",
      " [36.07557259]\n",
      " [32.86235471]] \n",
      "\n",
      "[102.0569678  108.47602664 112.11203994  96.93603066  91.15223848]\n"
     ]
    }
   ],
   "source": [
    "X = celsius.reshape(-1,1)\n",
    "y = fahrenheit\n",
    "print(X[:5], '\\n')\n",
    "print(y[:5])"
   ]
  },
  {
   "cell_type": "code",
   "execution_count": 18,
   "id": "f06d6443",
   "metadata": {},
   "outputs": [],
   "source": [
    "from sklearn.model_selection import train_test_split\n",
    "\n",
    "X_train, X_test, y_train, y_test = train_test_split(X, y, train_size=0.7, random_state=1) #train_size = percentuale di valori che vanno nel train (70%), il resto va nel test"
   ]
  },
  {
   "cell_type": "code",
   "execution_count": 19,
   "id": "1b4df8ec",
   "metadata": {},
   "outputs": [],
   "source": [
    "from sklearn.neural_network import MLPRegressor\n",
    "\n",
    "regr = MLPRegressor(random_state=1, activation='identity',max_iter=500, hidden_layer_sizes=(), solver='lbfgs')"
   ]
  },
  {
   "cell_type": "code",
   "execution_count": 20,
   "id": "9bcda187",
   "metadata": {},
   "outputs": [
    {
     "data": {
      "text/plain": [
       "MLPRegressor(activation='identity', hidden_layer_sizes=(), max_iter=500,\n",
       "             random_state=1, solver='lbfgs')"
      ]
     },
     "execution_count": 20,
     "metadata": {},
     "output_type": "execute_result"
    }
   ],
   "source": [
    "regr.fit(X_train, y_train)"
   ]
  },
  {
   "cell_type": "code",
   "execution_count": 21,
   "id": "ce85e855",
   "metadata": {},
   "outputs": [
    {
     "data": {
      "text/plain": [
       "array([32.00000333])"
      ]
     },
     "execution_count": 21,
     "metadata": {},
     "output_type": "execute_result"
    }
   ],
   "source": [
    "regr.predict([[0]])"
   ]
  },
  {
   "cell_type": "code",
   "execution_count": 22,
   "id": "e72b7396",
   "metadata": {},
   "outputs": [
    {
     "name": "stdout",
     "output_type": "stream",
     "text": [
      "Train\n",
      "mae: 0.0000004004\n",
      "0.9999999999999978\n",
      "Train\n",
      "mae: 0.0000004021\n",
      "0.9999999999999978\n"
     ]
    }
   ],
   "source": [
    "from sklearn.metrics import mean_absolute_error\n",
    "\n",
    "print(\"Train\")\n",
    "predictions = regr.predict(X_train)\n",
    "mae = mean_absolute_error(predictions, y_train)\n",
    "print(f\"mae: {mae:.10f}\")\n",
    "print(regr.score(X_train, y_train))\n",
    "\n",
    "print(\"Train\")\n",
    "predictions = regr.predict(X_test)\n",
    "mae = mean_absolute_error(predictions, y_test)\n",
    "print(f\"mae: {mae:.10f}\")\n",
    "print(regr.score(X_test, y_test))"
   ]
  },
  {
   "cell_type": "code",
   "execution_count": 23,
   "id": "2015b6fa",
   "metadata": {},
   "outputs": [
    {
     "name": "stdout",
     "output_type": "stream",
     "text": [
      "[ 0.0000005655 -0.0000003375  0.0000001357  0.0000003819 -0.0000001757\n",
      " -0.0000004466 -0.0000003182 -0.0000005703  0.000000631   0.0000006921\n",
      " -0.0000003135 -0.0000000768 -0.0000004155 -0.0000001558  0.0000007441\n",
      " -0.0000003288 -0.0000001039  0.0000005341  0.0000004191 -0.0000008341\n",
      " -0.0000004581  0.0000003638  0.000000267  -0.0000002389 -0.0000004766\n",
      "  0.000000695  -0.0000005487  0.0000000304  0.0000003333 -0.0000004722]\n"
     ]
    }
   ],
   "source": [
    "np.set_printoptions(precision=10, suppress=True)\n",
    "print(regr.predict(X_test)-y_test)"
   ]
  },
  {
   "cell_type": "code",
   "execution_count": 24,
   "id": "ceb4be36",
   "metadata": {},
   "outputs": [
    {
     "data": {
      "text/plain": [
       "[array([[1.7999999149]])]"
      ]
     },
     "execution_count": 24,
     "metadata": {},
     "output_type": "execute_result"
    }
   ],
   "source": [
    "regr.coefs_"
   ]
  },
  {
   "cell_type": "code",
   "execution_count": 26,
   "id": "ac615df1",
   "metadata": {},
   "outputs": [
    {
     "data": {
      "text/plain": [
       "[array([32.0000033304])]"
      ]
     },
     "execution_count": 26,
     "metadata": {},
     "output_type": "execute_result"
    }
   ],
   "source": [
    "regr.intercepts_"
   ]
  },
  {
   "cell_type": "code",
   "execution_count": 30,
   "id": "ea114484",
   "metadata": {},
   "outputs": [
    {
     "name": "stdout",
     "output_type": "stream",
     "text": [
      "[ 90.4673068295 109.5637716791  99.5557308638  94.3504834967\n",
      " 106.1412894144 111.8707916952 109.1552226309 114.4851478778\n",
      "  89.0824643527  87.7895454905 109.0546851467 104.0489455378\n",
      " 111.2115197189 105.7201344087  86.6914858451 109.3778554658\n",
      " 104.6239845061  91.1314973664  93.5631562149 120.0647586768\n",
      " 112.1120394829  94.7327005344  96.7798124828 107.4767506012\n",
      " 112.5044993249  87.7298652858 114.0282615184 101.7827768278\n",
      "  95.3768337631 112.4121175766]\n"
     ]
    }
   ],
   "source": [
    "from joblib import dump, load\n",
    "\n",
    "dump(regr, \"fahrenheit.joblib\")\n",
    "\n",
    "modelloImportato = load('fahrenheit.joblib')\n",
    "\n",
    "print(modelloImportato.predict(X_test))"
   ]
  },
  {
   "cell_type": "code",
   "execution_count": null,
   "id": "8cd23b3f",
   "metadata": {},
   "outputs": [],
   "source": []
  }
 ],
 "metadata": {
  "kernelspec": {
   "display_name": "Python 3 (ipykernel)",
   "language": "python",
   "name": "python3"
  },
  "language_info": {
   "codemirror_mode": {
    "name": "ipython",
    "version": 3
   },
   "file_extension": ".py",
   "mimetype": "text/x-python",
   "name": "python",
   "nbconvert_exporter": "python",
   "pygments_lexer": "ipython3",
   "version": "3.10.2"
  }
 },
 "nbformat": 4,
 "nbformat_minor": 5
}
