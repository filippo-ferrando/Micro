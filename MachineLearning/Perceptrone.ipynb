{
 "cells": [
  {
   "cell_type": "code",
   "execution_count": 16,
   "id": "e3d4d864",
   "metadata": {},
   "outputs": [],
   "source": [
    "import numpy as np\n",
    "\n",
    "class Perceptron():\n",
    "    def __init__(self, n_input, lr = 0.1, n_epoche = 10):\n",
    "        self.n_input = n_input\n",
    "        self.lr = lr\n",
    "        self.n_epoche = n_epoche\n",
    "        self.w = np.zeros(n_input + 1)\n",
    "    \n",
    "    def funz_attivazione(self, z):\n",
    "        return 1 if z >= 0 else 0\n",
    "    \n",
    "    def predict(self, X):\n",
    "        X = np.insert(X, 0, 1)\n",
    "        z = (self.w * X).sum()\n",
    "        return self.funz_attivazione(z)\n",
    "    \n",
    "    def fit(self, X_train, y_train):\n",
    "        self.errori = []\n",
    "        for _ in range(self.n_epoche):\n",
    "            err = 0\n",
    "            for i in range(y_train.shape[0]):\n",
    "                y = self.predict(X_train[i])\n",
    "                e = y_train[i] - y\n",
    "                x = np.insert(X_train[i], 0, 1)\n",
    "                print(\">\", self.w)\n",
    "                print(\"X\", x)\n",
    "                self.w = self.w + self.lr * e * x\n",
    "                err += int(e != 0.0)\n",
    "            self.errori.append(err)"
   ]
  },
  {
   "cell_type": "code",
   "execution_count": 17,
   "id": "3bf9969a",
   "metadata": {},
   "outputs": [
    {
     "name": "stdout",
     "output_type": "stream",
     "text": [
      "> [0. 0. 0.]\n",
      "X [1 0 0]\n",
      "> [-1.  0.  0.]\n",
      "X [1 0 1]\n",
      "> [-1.  0.  0.]\n",
      "X [1 1 0]\n",
      "> [-1.  0.  0.]\n",
      "X [1 1 1]\n",
      "> [0. 1. 1.]\n",
      "X [1 0 0]\n",
      "> [-1.  1.  1.]\n",
      "X [1 0 1]\n",
      "> [-2.  1.  0.]\n",
      "X [1 1 0]\n",
      "> [-2.  1.  0.]\n",
      "X [1 1 1]\n",
      "> [-1.  2.  1.]\n",
      "X [1 0 0]\n",
      "> [-1.  2.  1.]\n",
      "X [1 0 1]\n",
      "> [-2.  2.  0.]\n",
      "X [1 1 0]\n",
      "> [-3.  1.  0.]\n",
      "X [1 1 1]\n",
      "> [-2.  2.  1.]\n",
      "X [1 0 0]\n",
      "> [-2.  2.  1.]\n",
      "X [1 0 1]\n",
      "> [-2.  2.  1.]\n",
      "X [1 1 0]\n",
      "> [-3.  1.  1.]\n",
      "X [1 1 1]\n",
      "> [-2.  2.  2.]\n",
      "X [1 0 0]\n",
      "> [-2.  2.  2.]\n",
      "X [1 0 1]\n",
      "> [-3.  2.  1.]\n",
      "X [1 1 0]\n",
      "> [-3.  2.  1.]\n",
      "X [1 1 1]\n",
      "> [-3.  2.  1.]\n",
      "X [1 0 0]\n",
      "> [-3.  2.  1.]\n",
      "X [1 0 1]\n",
      "> [-3.  2.  1.]\n",
      "X [1 1 0]\n",
      "> [-3.  2.  1.]\n",
      "X [1 1 1]\n",
      "> [-3.  2.  1.]\n",
      "X [1 0 0]\n",
      "> [-3.  2.  1.]\n",
      "X [1 0 1]\n",
      "> [-3.  2.  1.]\n",
      "X [1 1 0]\n",
      "> [-3.  2.  1.]\n",
      "X [1 1 1]\n",
      "Pesi [-3.  2.  1.]\n",
      "errori [2, 3, 3, 2, 1, 0, 0]\n"
     ]
    }
   ],
   "source": [
    "X_train = np.array([\n",
    "    [0,0],\n",
    "    [0,1],\n",
    "    [1,0],\n",
    "    [1,1]\n",
    "])\n",
    "\n",
    "y_train = np.array([0,0,0,1])\n",
    "\n",
    "perceptron = Perceptron(2, 1, 7)\n",
    "perceptron.fit(X_train, y_train)\n",
    "print(f\"Pesi {perceptron.w}\")\n",
    "print(f\"errori {perceptron.errori}\")"
   ]
  },
  {
   "cell_type": "code",
   "execution_count": 13,
   "id": "401a1192",
   "metadata": {},
   "outputs": [
    {
     "data": {
      "image/png": "[encoded data removed]",
      "text/plain": [
       "<Figure size 504x504 with 1 Axes>"
      ]
     },
     "metadata": {
      "needs_background": "light"
     },
     "output_type": "display_data"
    }
   ],
   "source": [
    "import matplotlib.pyplot as plt\n",
    "\n",
    "plt.figure(figsize=(7,7))\n",
    "plt.plot(range(1, len(perceptron.errori) + 1), perceptron.errori, marker='o')\n",
    "plt.xlabel('epoche', fontsize = 20)\n",
    "plt.ylabel('numero di \\nclassificazioni errate', fontsize = 20)\n",
    "plt.tick_params(axis='both', labelsize='15')\n",
    "plt.show()"
   ]
  },
  {
   "cell_type": "code",
   "execution_count": null,
   "id": "bba21e7a",
   "metadata": {},
   "outputs": [],
   "source": []
  }
 ],
 "metadata": {
  "kernelspec": {
   "display_name": "Python 3 (ipykernel)",
   "language": "python",
   "name": "python3"
  },
  "language_info": {
   "codemirror_mode": {
    "name": "ipython",
    "version": 3
   },
   "file_extension": ".py",
   "mimetype": "text/x-python",
   "name": "python",
   "nbconvert_exporter": "python",
   "pygments_lexer": "ipython3",
   "version": "3.10.4"
  }
 },
 "nbformat": 4,
 "nbformat_minor": 5
}
