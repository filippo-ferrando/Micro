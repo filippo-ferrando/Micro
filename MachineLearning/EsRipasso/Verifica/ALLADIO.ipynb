{
 "cells": [
  {
   "cell_type": "markdown",
   "id": "5f28771e",
   "metadata": {},
   "source": [
    "# Verifica  \n",
    "## Esercizio 1A-B"
   ]
  },
  {
   "cell_type": "code",
   "execution_count": null,
   "id": "d52c50fb",
   "metadata": {},
   "outputs": [],
   "source": [
    "import numpy as np\n",
    "nDati = 1000\n",
    "nErrori = 20\n",
    "\n",
    "dati = np.random.normal(19,5,nDati)\n",
    "dati[np.random.choice(np.arange(nDati), size = nErrori, replace = False)] = 9999.9 #inserimento degli errori in maniera casuale\n",
    "#print(dati)\n",
    "\n",
    "\n",
    "mat = np.array([dati[i:5+i] for i in range(len(dati)-4)]) #raggruppamento dei valori vicini a gruppi di 5\n",
    "print('\\n',mat)\n",
    "\n",
    "erroriRavvicinati = np.sum(mat == 9999.9, axis=1) #restituisce per ogni riga della matrice la somma di valori = 9999.9 in quella riga\n",
    "\n",
    "for errore in erroriRavvicinati:\n",
    "    if errore >= 2: #se il numero di errori in una riga è >= 2 si segnala il problema\n",
    "        print('\\nCentralina in riparazione')\n",
    "        break\n",
    "\n",
    "newArray = np.delete(dati, np.argwhere(dati == 9999.9)) #creazione del nuovo array senza errori\n",
    "print(f\"\\nNuovo array senza errori:\\n{newArray}\")\n",
    "print(f\"\\nMedia dell'array senza errori: {newArray.mean()}\")\n",
    "print(f\"Valore massimo dell'array senza errori: {newArray.max()}\")\n",
    "print(f\"Valore minimo dell'array senza errori: {newArray.min()}\")\n",
    "\n",
    "\n",
    "\n",
    "print('\\n\\n------------------------------1B---------------------------\\n\\n')\n",
    "\n",
    "nDati = 60*24\n",
    "\n",
    "#calcolo del numero di errori per le due centraline\n",
    "nErrori2 = round((nDati*2) / 100)\n",
    "nErrori3 = round(nDati/100)\n",
    "\n",
    "#creazione centraline e inserimento errori\n",
    "centralina1 = np.random.normal(19,5,nDati)\n",
    "centralina1[np.random.choice(np.arange(nDati), size = nErrori, replace = False)] = 9999.9\n",
    "centralina2 = np.random.normal(19,5,nDati)\n",
    "centralina2[np.random.choice(np.arange(nDati), size = nErrori2, replace = False)] = 9999.9\n",
    "centralina3 = np.random.normal(19,5,nDati)\n",
    "centralina3[np.random.choice(np.arange(nDati), size = nErrori3, replace = False)] = 9999.9\n",
    "\n",
    "#print(centralina1)\n",
    "#print(centralina2)\n",
    "#print(centralina3)\n",
    "\n",
    "mat = np.array([centralina1,centralina2,centralina3]).transpose() #creazione di una matrice con il transpose per associare i dati in modo corretto\n",
    "print(mat)\n",
    "\n",
    "\n",
    "\n",
    "#Eliminazione (NON FUNZIONA)\n",
    "coord = np.argwhere(mat == 9999.9) #coordinate della matrice in cui ci sono errori\n",
    "coord = coord[:,1] #si calcola solo il numero delle righe\n",
    "print(coord)\n",
    "\n",
    "newMat = np.delete(mat, coord, axis=1)\n",
    "print(newMat)\n",
    "\n",
    "\n",
    "#controllo righe che hanno tutti e tre errori\n",
    "for riga in mat:\n",
    "    if np.all(riga) == 9999.9: #np.all() per controllare che la condizione valga per tutti e tre i dati\n",
    "        print('Tutte e 3 le centraline hanno un errore nello stesso minuto')\n",
    "        break\n",
    "\n",
    "#newMat = np.delete(mat, np.argwhere(mat[0] == 9999.9))\n",
    "#print(newMat)"
   ]
  },
  {
   "cell_type": "markdown",
   "id": "24e86a02",
   "metadata": {},
   "source": [
    "## Esercizio 2"
   ]
  },
  {
   "cell_type": "code",
   "execution_count": null,
   "id": "58b14c27",
   "metadata": {},
   "outputs": [],
   "source": [
    "import numpy as np\n",
    "\n",
    "nGiorni = 5\n",
    "puntoPartenza = 0\n",
    "\n",
    "movimenti = np.random.choice([1,-1], size=3600*24*nGiorni) #scelta del movimento per ogni secondo tra due scelte\n",
    "#print(movimenti)\n",
    "print(f'Spostamento totale: {puntoPartenza + movimenti.sum()}cm') #calcolo dello spostamento"
   ]
  },
  {
   "cell_type": "markdown",
   "id": "6faeba4f",
   "metadata": {},
   "source": [
    "## Esercizio 3"
   ]
  },
  {
   "cell_type": "code",
   "execution_count": null,
   "id": "9e6fbaff",
   "metadata": {},
   "outputs": [],
   "source": [
    "import numpy as np\n",
    "\n",
    "nPoligoni = 10\n",
    "\n",
    "coordinate = np.random.randint(-100,100, size=8*nPoligoni).reshape(-1,4,2) #4 coordinate a gruppi di 2 per ogni poligono\n",
    "print(coordinate)\n"
   ]
  }
 ],
 "metadata": {
  "kernelspec": {
   "display_name": "Python 3",
   "language": "python",
   "name": "python3"
  },
  "language_info": {
   "codemirror_mode": {
    "name": "ipython",
    "version": 3
   },
   "file_extension": ".py",
   "mimetype": "text/x-python",
   "name": "python",
   "nbconvert_exporter": "python",
   "pygments_lexer": "ipython3",
   "version": "3.8.8"
  }
 },
 "nbformat": 4,
 "nbformat_minor": 5
}
