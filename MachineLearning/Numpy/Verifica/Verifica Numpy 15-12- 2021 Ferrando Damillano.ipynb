{
 "cells": [
  {
   "cell_type": "markdown",
   "id": "47128a25",
   "metadata": {},
   "source": [
    "# Esercizio 1.\t\n",
    "Due giocatori si affrontano in una partita a dadi: ogni volta che un giocatore ottiene un numero maggiore del suo rivale guadagna un punto, mentre se entrambi i giocatori ottengono lo stesso numero guadagnano mezzo punto ciascuno. \n",
    "1.\tSimulare una partita di 100 lanci e registra i risultati di 10 partite utilizzano Numpy."
   ]
  },
  {
   "cell_type": "code",
   "execution_count": null,
   "id": "f597a76a",
   "metadata": {},
   "outputs": [],
   "source": [
    "numero_lanci = 100\n",
    "numero_partite = 10\n",
    "lanci_giocatore1 = np.random.randint(1,7,(numero_partite,numero_lanci))\n",
    "lanci_giocatore2 = np.random.randint(1,7,(numero_partite,numero_lanci))\n",
    "print(lanci_giocatore1[:5,:10])\n",
    "print(lanci_giocatore2[:5,:10])\n",
    "\n",
    "punteggio_giocatore1 = np.sum(lanci_giocatore1>lanci_giocatore2, axis=1) + 0.5* np.sum(lanci_giocatore1==lanci_giocatore2, axis=1)\n",
    "punteggio_giocatore2 = np.sum(lanci_giocatore2>lanci_giocatore1, axis=1) + 0.5* np.sum(lanci_giocatore1==lanci_giocatore2, axis=1)\n",
    "print(f\"Punteggio giocatore 1: {punteggio_giocatore1}\")\n",
    "print(f\"Punteggio giocatore 2: {punteggio_giocatore2}\")\n",
    "vittorie_giocatore1 = np.sum(punteggio_giocatore1 > punteggio_giocatore2)\n",
    "print(f\"Il giocatore 1 vince {vittorie_giocatore1} volte\")"
   ]
  },
  {
   "cell_type": "markdown",
   "id": "f703b358",
   "metadata": {},
   "source": [
    "2. Se un giocatore utilizzasse un dado truccato in cui il 5 e il 6 avessero una probabilità doppia di uscire rispetto agli altri numeri, ce ne potremmo accorgere? Simula questa situazione e giustifica le tue risposte"
   ]
  },
  {
   "cell_type": "code",
   "execution_count": null,
   "id": "864e2b84",
   "metadata": {},
   "outputs": [],
   "source": [
    "# il giocatore 1 ha un dado truccato\n",
    "numero_lanci = 100\n",
    "numero_partite = 10\n",
    "lanci_giocatore1 = np.random.choice(range(1,7),p=[1/8,1/8,1/8,1/8,2/8,2/8],\n",
    "                                    size=(numero_partite,numero_lanci))\n",
    "lanci_giocatore2 = np.random.randint(1,7,(numero_partite,numero_lanci))\n",
    "print(lanci_giocatore1[:5,:10])\n",
    "print(lanci_giocatore2[:5,:10])\n",
    "\n",
    "punteggio_giocatore1 = np.sum(lanci_giocatore1>lanci_giocatore2, axis=1) + 0.5* np.sum(lanci_giocatore1==lanci_giocatore2, axis=1)\n",
    "punteggio_giocatore2 = np.sum(lanci_giocatore2>lanci_giocatore1, axis=1) + 0.5* np.sum(lanci_giocatore1==lanci_giocatore2, axis=1)\n",
    "print(f\"Punteggio giocatore 1: {punteggio_giocatore1}\")\n",
    "print(f\"Punteggio giocatore 2: {punteggio_giocatore2}\")\n",
    "vittorie_giocatore1 = np.sum(punteggio_giocatore1 > punteggio_giocatore2)\n",
    "print(f\"Il giocatore 1 vince {vittorie_giocatore1} volte\")"
   ]
  },
  {
   "cell_type": "markdown",
   "id": "5865284e",
   "metadata": {},
   "source": [
    "# Esercizio 2.\n",
    "In una fabbrica di cuscinetti a sfera, le 5 macchine lavorano 24 su 24. \n",
    "È presente un sistema che memorizza il numero di pezzi prodotti ogni minuto da ognim acchina. Ieri ha memorizzato i dati nel file **misurazioni.csv** allegato.\n",
    "\n",
    "1. Carica i dati in un vettore di Numpy"
   ]
  },
  {
   "cell_type": "code",
   "execution_count": null,
   "id": "b5b8db7c",
   "metadata": {},
   "outputs": [],
   "source": [
    "#creazione dei dati\n",
    "import string\n",
    "\n",
    "num_misurazioni = 24 * 60 \n",
    "media = [40, 38, 36, 41, 42]\n",
    "dev = [4, 2, 3, 1, 3] # intera perchè devo generare numeri interi\n",
    "num_macchine = len(media)\n",
    "\n",
    "misurazioni = []\n",
    "for m,d in zip(media, dev):\n",
    "    misurazioni.append(np.round(np.random.normal(m, d, (num_misurazioni,))))\n",
    "misurazioni = np.array(misurazioni, int)\n",
    "print(misurazioni)\n",
    "np.savetxt('misurazioni.csv', misurazioni, delimiter=\",\", fmt='%d')"
   ]
  },
  {
   "cell_type": "code",
   "execution_count": 64,
   "id": "8f1738ef",
   "metadata": {},
   "outputs": [
    {
     "name": "stdout",
     "output_type": "stream",
     "text": [
      "[[41 41 44 ... 38 37 38]\n",
      " [37 40 40 ... 37 43 37]\n",
      " [36 37 34 ... 36 35 35]\n",
      " [41 41 41 ... 42 40 42]\n",
      " [39 40 45 ... 44 48 40]]\n"
     ]
    }
   ],
   "source": [
    "#carico i dati\n",
    "dati = []\n",
    "with open('misurazioni.csv', \"r\") as file:\n",
    "    for riga in file.readlines():\n",
    "            dati.append(riga[:-1].split(\",\"))\n",
    "misurazioni = np.array(dati,int)\n",
    "print(misurazioni)"
   ]
  },
  {
   "cell_type": "markdown",
   "id": "63ec4716",
   "metadata": {},
   "source": [
    "2. Visualizzare per ogni macchina:\n",
    "    - il numero totale di pezzi prodotti nella giornata;\n",
    "    - la media e la deviazione standard dei pezzi prodotti, \n",
    "    - il numero minimo e massimo di pezzi prodotti in un minuto\n",
    "L'output da ottenere è il seguente\n",
    "![outpu](output.png)"
   ]
  },
  {
   "cell_type": "code",
   "execution_count": 70,
   "id": "26af6546",
   "metadata": {},
   "outputs": [
    {
     "name": "stdout",
     "output_type": "stream",
     "text": [
      "totale giornata\t\t {0: 57679, 1: 54694, 2: 52130, 3: 59047, 4: 60469}\n",
      "media giornata\t\t {0: 40.05, 1: 37.98, 2: 36.2, 3: 41.0, 4: 41.99}\n",
      "deviazione\t\t {0: 4.09, 1: 2.09, 2: 2.91, 3: 1.04, 4: 3.02}\n",
      "numero minimo di pezzi\t {0: 28, 1: 32, 2: 26, 3: 38, 4: 33}\n",
      "numero massimo di pezzi\t {0: 56, 1: 45, 2: 47, 3: 45, 4: 53}\n"
     ]
    }
   ],
   "source": [
    "#calcolo statistiche\n",
    "num_macchine, num_misurazioni = misurazioni.shape\n",
    "\n",
    "print(\"totale giornata\\t\\t\", dict(zip(range(num_macchine), misurazioni.sum(axis=1))))\n",
    "print(\"media giornata\\t\\t\", dict(zip(range(num_macchine), np.round(misurazioni.mean(axis=1),2))))\n",
    "print(\"deviazione\\t\\t\", dict(zip(range(num_macchine), np.round(misurazioni.std(axis=1),2))))\n",
    "print(\"numero minimo di pezzi\\t\", dict(zip(range(num_macchine), misurazioni.min(axis=1))))\n",
    "print(\"numero massimo di pezzi\\t\", dict(zip(range(num_macchine), misurazioni.max(axis=1))))"
   ]
  },
  {
   "cell_type": "markdown",
   "id": "2b46cd2e",
   "metadata": {},
   "source": [
    "3.\tQual è la macchina che ha una produzione più costante, ovvero tende a produrre sempre gli stessi pezzi al minuto? Rispondi nella cella del tuo notebook motivando la risposta."
   ]
  },
  {
   "cell_type": "code",
   "execution_count": null,
   "id": "daa88b32",
   "metadata": {},
   "outputs": [],
   "source": []
  },
  {
   "cell_type": "markdown",
   "id": "f3c2a067",
   "metadata": {},
   "source": [
    "4. Supponiamo che le macchine inviino per errore un valore -1 con le seguenti probabilità:\n",
    "\n",
    "- macchina 0: 2%\n",
    "- macchina 1: 1%\n",
    "- macchina 2: 3%\n",
    "- macchina 3: 2%\n",
    "- macchina 4: 1%\n",
    "\n",
    "Quali sarebbero i possibili dati memorizzati nel file? Crea il possibile vettore Numpy corrispondente"
   ]
  },
  {
   "cell_type": "code",
   "execution_count": 71,
   "id": "ad25c685",
   "metadata": {},
   "outputs": [
    {
     "name": "stdout",
     "output_type": "stream",
     "text": [
      "errori [28 14 43 28 14]\n",
      "[[41 41 44 ... 38 37 38]\n",
      " [37 40 40 ... 37 43 37]\n",
      " [36 37 34 ... 36 35 35]\n",
      " [41 41 41 ... 42 40 42]\n",
      " [39 40 45 ... 44 48 40]]\n"
     ]
    }
   ],
   "source": [
    "perc_errori = np.array([0.02, 0.01, 0.03, .02, .01])\n",
    "errore = -1\n",
    "\n",
    "num_errori = np.array(num_misurazioni * perc_errori, np.uint)\n",
    "print(\"errori\",num_errori)\n",
    "indici = []\n",
    "for e in num_errori:\n",
    "    indici.append(np.random.choice(range(num_misurazioni),\n",
    "                          size=(e), replace=False).tolist())\n",
    "#print(indici)\n",
    "\n",
    "misurazioniErrori = np.copy(misurazioni)\n",
    "for i in range(num_macchine):\n",
    "    #misurazioniErrori[np.arange(num_macchine).reshape(num_macchine,1),indici] = -1\n",
    "    misurazioniErrori[i,indici[i]] = -1\n",
    "print(misurazioniErrori)"
   ]
  },
  {
   "cell_type": "markdown",
   "id": "2b83e566",
   "metadata": {},
   "source": [
    "5. Secondo gli standard dei produttori delle macchine, se questi errori vengono inviati per più di 10 volte in un minuto, il modulo di invio deve essere riparato. Con i dati da te modificati, su quali macchine bisognerebbe riparare il modulo?\n",
    "\n",
    "(Suggerimento: ricordati che l'indice del vettore corrisponde al minuto in cui è avvenuta la registrazione del valore errato. Pensa quindi a cosa corrisponde la differenza tra due indici)"
   ]
  },
  {
   "cell_type": "code",
   "execution_count": 73,
   "id": "b34b4af4",
   "metadata": {},
   "outputs": [
    {
     "name": "stdout",
     "output_type": "stream",
     "text": [
      "[ 34  68 101 147 166]\n",
      "[34 33 46 19 42]\n",
      "Macchina 0 da riparare!\n",
      "[ 74 315 422 467 547]\n",
      "[241 107  45  80  14]\n",
      "[30 58 72 77 82]\n",
      "[28 14  5  5 13]\n",
      "Macchina 2 da riparare!\n",
      "[ 37  78 157 224 237]\n",
      "[41 79 67 13  2]\n",
      "Macchina 3 da riparare!\n",
      "[184 250 372 384 783]\n",
      "[ 66 122  12 399  98]\n"
     ]
    }
   ],
   "source": [
    "#controllo finestra di errore\n",
    "for i,m in zip(range(num_macchine),misurazioniErrori):\n",
    "    posizione_errori =  np.argwhere(m==errore)\n",
    "    print(posizione_errori[:5].flatten())\n",
    "    distanza_errori = (np.roll(posizione_errori,-1)-posizione_errori)[:-1]\n",
    "    print(distanza_errori[:5].flatten())\n",
    "\n",
    "    if np.sum(distanza_errori<=60) >= 10:\n",
    "        print(f\"Macchina {i} da riparare!\")"
   ]
  },
  {
   "cell_type": "markdown",
   "id": "009d1233",
   "metadata": {},
   "source": [
    "# Esercizio 3\n",
    "Crea con Numpy le coordinate dei 5 vertici di 3 **linee spezzate aperte**, con x e y appartenenti all'intervallo [-10, 10]\n",
    "![linee spezzate](lineeSpezzate.png)"
   ]
  },
  {
   "cell_type": "code",
   "execution_count": 74,
   "id": "13a90b02",
   "metadata": {},
   "outputs": [
    {
     "name": "stdout",
     "output_type": "stream",
     "text": [
      "[[[9.22 4.84]\n",
      "  [8.11 0.3 ]\n",
      "  [7.29 2.26]\n",
      "  [0.34 1.55]\n",
      "  [8.95 0.4 ]]\n",
      "\n",
      " [[4.99 4.4 ]\n",
      "  [4.66 3.02]\n",
      "  [3.03 0.16]\n",
      "  [8.61 6.88]\n",
      "  [9.55 8.34]]\n",
      "\n",
      " [[6.07 2.51]\n",
      "  [4.57 3.36]\n",
      "  [2.52 4.22]\n",
      "  [3.77 1.61]\n",
      "  [3.94 6.35]]]\n"
     ]
    }
   ],
   "source": [
    "import numpy as np\n",
    "\n",
    "n_vertici = 5\n",
    "n_linee = 3\n",
    "\n",
    "linee = np.round(np.random.uniform(0,10, size = (n_linee,n_vertici,2) ),2)\n",
    "print(linee)"
   ]
  },
  {
   "cell_type": "markdown",
   "id": "a9f9f700",
   "metadata": {},
   "source": [
    "1. Calcola la lunghezza totale di ogni spezzata"
   ]
  },
  {
   "cell_type": "code",
   "execution_count": 75,
   "id": "a2c5d561",
   "metadata": {},
   "outputs": [
    {
     "name": "stdout",
     "output_type": "stream",
     "text": [
      "diff [[[ 1.11  4.54]\n",
      "  [ 0.82 -1.96]\n",
      "  [ 6.95  0.71]\n",
      "  [-8.61  1.15]]\n",
      "\n",
      " [[ 0.33  1.38]\n",
      "  [ 1.63  2.86]\n",
      "  [-5.58 -6.72]\n",
      "  [-0.94 -1.46]]\n",
      "\n",
      " [[ 1.5  -0.85]\n",
      "  [ 2.05 -0.86]\n",
      "  [-1.25  2.61]\n",
      "  [-0.17 -4.74]]]\n",
      "pot [[[1.23210e+00 2.06116e+01]\n",
      "  [6.72400e-01 3.84160e+00]\n",
      "  [4.83025e+01 5.04100e-01]\n",
      "  [7.41321e+01 1.32250e+00]]\n",
      "\n",
      " [[1.08900e-01 1.90440e+00]\n",
      "  [2.65690e+00 8.17960e+00]\n",
      "  [3.11364e+01 4.51584e+01]\n",
      "  [8.83600e-01 2.13160e+00]]\n",
      "\n",
      " [[2.25000e+00 7.22500e-01]\n",
      "  [4.20250e+00 7.39600e-01]\n",
      "  [1.56250e+00 6.81210e+00]\n",
      "  [2.89000e-02 2.24676e+01]]]\n",
      "sum [[21.8437  4.514  48.8066 75.4546]\n",
      " [ 2.0133 10.8365 76.2948  3.0152]\n",
      " [ 2.9725  4.9421  8.3746 22.4965]]\n",
      "sqrt [[4.67372442 2.12461761 6.98617206 8.68646073]\n",
      " [1.41890803 3.29188396 8.73468946 1.73643313]\n",
      " [1.72409396 2.22308344 2.89389012 4.74304754]]\n",
      "tot [22.47097482 15.18191458 11.58411507]\n"
     ]
    }
   ],
   "source": [
    "sx = np.roll(linee,-1, axis=1)[:,:-1]\n",
    "l =linee[:,:-1]\n",
    "print(\"diff\",l-sx)\n",
    "print(\"pot\",(l-sx)**2)\n",
    "print(\"sum\",np.sum((l-sx)**2, axis=-1))\n",
    "print(\"sqrt\",np.sqrt(np.sum((l-sx)**2, axis=-1)))\n",
    "\n",
    "ris= np.sum(np.sqrt(np.sum((l-sx)**2, axis=-1)),axis=-1)\n",
    "\n",
    "print(\"tot\",ris)\n"
   ]
  }
 ],
 "metadata": {
  "kernelspec": {
   "display_name": "Python 3 (ipykernel)",
   "language": "python",
   "name": "python3"
  },
  "language_info": {
   "codemirror_mode": {
    "name": "ipython",
    "version": 3
   },
   "file_extension": ".py",
   "mimetype": "text/x-python",
   "name": "python",
   "nbconvert_exporter": "python",
   "pygments_lexer": "ipython3",
   "version": "3.9.9"
  }
 },
 "nbformat": 4,
 "nbformat_minor": 5
}
