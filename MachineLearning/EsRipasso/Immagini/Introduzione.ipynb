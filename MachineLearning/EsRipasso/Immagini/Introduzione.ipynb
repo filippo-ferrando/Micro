{
 "cells": [
  {
   "cell_type": "code",
   "execution_count": 2,
   "id": "f6c09687",
   "metadata": {},
   "outputs": [],
   "source": [
    "import cv2 as cv\n",
    "import numpy as np\n",
    "\n",
    "img_width = 200\n",
    "img_height = 100\n",
    "rect_width = 100\n",
    "rect_height = 50\n",
    "\n",
    "#crea un'immagine di tutti 0 ovvero tutta nera\n",
    "img = np.zeros((img_height, img_width, 3), np.uint8)\n",
    "img.fill(0) #imposta lo sfondo a nero\n",
    "\n",
    "cv.imshow('Image', img)\n",
    "cv.waitKey(0) #attende la pressione di un tasto\n",
    "cv.destroyAllWindows()"
   ]
  },
  {
   "cell_type": "code",
   "execution_count": 2,
   "id": "d9f6ab62",
   "metadata": {},
   "outputs": [],
   "source": [
    "import cv2 as cv\n",
    "import numpy as np\n",
    "\n",
    "ROSSO = [0,0,255]\n",
    "GIALLO = [0,255,255]\n",
    "BLU = [255,0,0]\n",
    "FUCSIA = [255,0,255]\n",
    "LIME = [0,255,0]\n",
    "BIANCO = [255,255,255]\n",
    "NERO = [0,0,0]\n",
    "\n",
    "img_width = 200\n",
    "img_height = 100\n",
    "rect_width = 100\n",
    "rect_height = 50\n",
    "\n",
    "#crea un'immagine di tutti 0 ovvero tutta nera\n",
    "img = np.zeros((img_height, img_width, 3), np.uint8)\n",
    "img.fill(255)\n",
    "\n",
    "img[img_height//4:(img_height*3)//4, img_width//4:(img_width*3)//4] = ROSSO #rettangolo rosso centrato\n",
    "\n",
    "#cornici\n",
    "img[0:img_height-5, img_width-5:img_width] = GIALLO\n",
    "img[0:5, 0:img_width-5] = BLU\n",
    "img[5:img_height, 0:5] = FUCSIA\n",
    "img[img_height-5:img_height, 5:img_width] = LIME\n",
    "\n",
    "\n",
    "cv.imshow('Image', img)\n",
    "cv.waitKey(0) #attende la pressione di un tasto\n",
    "cv.destroyAllWindows()"
   ]
  },
  {
   "cell_type": "markdown",
   "id": "044dc412",
   "metadata": {},
   "source": [
    "### Sostituire il bianco con il nero"
   ]
  },
  {
   "cell_type": "code",
   "execution_count": 3,
   "id": "07e0b08f",
   "metadata": {},
   "outputs": [],
   "source": [
    "img[np.where(np.all(img == BIANCO, axis=-1))] = NERO\n",
    "    \n",
    "cv.imshow('Image', img)\n",
    "cv.waitKey(0) #attende la pressione di un tasto\n",
    "cv.destroyAllWindows()"
   ]
  },
  {
   "cell_type": "markdown",
   "id": "5d4d1bb8",
   "metadata": {},
   "source": [
    "### Schiarire e scurire l'immagine"
   ]
  },
  {
   "cell_type": "code",
   "execution_count": 3,
   "id": "1cbafd5a",
   "metadata": {},
   "outputs": [],
   "source": [
    "img_lighter = img.copy()\n",
    "img_darker = img.copy()\n",
    "\n",
    "tot = 100\n",
    "\n",
    "#schiarisce di tot\n",
    "img_lighter = np.where(img_lighter>=255-tot, 255, img_lighter+tot)\n",
    "\n",
    "#scurisce di tot\n",
    "img_darker = np.where(img_darker<=tot, 0, img_darker-tot)\n",
    "\n",
    "#visualizza i risultati\n",
    "cv.imshow('Image lighter', img_lighter)\n",
    "cv.imshow('Image darker', img_darker)\n",
    "cv.waitKey(0)\n",
    "cv.destroyAllWindows()"
   ]
  },
  {
   "cell_type": "markdown",
   "id": "b1b2a633",
   "metadata": {},
   "source": [
    "### Creare una immagine RGB avente dimensioni 200 x 200 contenente quadrati di lato 20 pixel con colori pseudocasuali. Visualizzare l'immagine con OpenCV.\n"
   ]
  },
  {
   "cell_type": "code",
   "execution_count": 1,
   "id": "afe38c1d",
   "metadata": {},
   "outputs": [],
   "source": [
    "import cv2 as cv\n",
    "import numpy as np\n",
    "\n",
    "latoQuadrato = 10\n",
    "img = np.zeros((200, 200, 3), np.uint8)\n",
    "\n",
    "for i in range(200//latoQuadrato):\n",
    "    for k in range(200//latoQuadrato):\n",
    "        randomColor = [np.random.randint(0,255), np.random.randint(0,255), np.random.randint(0,255)]\n",
    "        img[latoQuadrato*i:latoQuadrato+latoQuadrato*i, latoQuadrato*k:latoQuadrato+latoQuadrato*k] = randomColor\n",
    "    \n",
    "cv.imshow('Image', img)\n",
    "cv.waitKey(0) #attende la pressione di un tasto\n",
    "cv.destroyAllWindows()"
   ]
  },
  {
   "cell_type": "markdown",
   "id": "30fab00b",
   "metadata": {},
   "source": [
    "### Creare una immagine RGB avente dimensioni 200 x 200 contenente 10 quadrati di lato 20 pixel con coordinate e colori pseudocasuali. Visualizzare l'immagine con OpenCV."
   ]
  },
  {
   "cell_type": "code",
   "execution_count": 1,
   "id": "0e79ab83",
   "metadata": {},
   "outputs": [
    {
     "name": "stdout",
     "output_type": "stream",
     "text": [
      "[ 14 111  54 138 119  89  82  58 122  60] [138 128 139   3 100  58 106 166 106  75]\n"
     ]
    }
   ],
   "source": [
    "import cv2 as cv\n",
    "import numpy as np\n",
    "\n",
    "img_side = 200\n",
    "square_side = 20\n",
    "\n",
    "x = np.random.choice(img_side - square_side, size=10)\n",
    "y = np.random.choice(img_side - square_side, size=10)\n",
    "print(x,y)\n",
    "\n",
    "img = np.zeros((img_side, img_side,3), np.uint8)\n",
    "img.fill(255)\n",
    "\n",
    "#disegno quadrati\n",
    "for i in range (len(x)):\n",
    "    img[x[i]:x[i] + square_side, y[i]:y[i] + square_side] = np.random.randint(0,256, size=3)    #color random\n",
    "\n",
    "cv.imshow(\"Image\", img)\n",
    "cv.waitKey(0)\n",
    "cv.destroyAllWindows()"
   ]
  }
 ],
 "metadata": {
  "kernelspec": {
   "display_name": "Python 3",
   "language": "python",
   "name": "python3"
  },
  "language_info": {
   "codemirror_mode": {
    "name": "ipython",
    "version": 3
   },
   "file_extension": ".py",
   "mimetype": "text/x-python",
   "name": "python",
   "nbconvert_exporter": "python",
   "pygments_lexer": "ipython3",
   "version": "3.8.8"
  }
 },
 "nbformat": 4,
 "nbformat_minor": 5
}
