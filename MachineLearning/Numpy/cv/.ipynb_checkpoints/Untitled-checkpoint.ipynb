{
 "cells": [
  {
   "cell_type": "code",
   "execution_count": 1,
   "id": "d036b7c4",
   "metadata": {},
   "outputs": [],
   "source": [
    "import numpy as np\n",
    "import cv2 as cv"
   ]
  },
  {
   "cell_type": "code",
   "execution_count": 7,
   "id": "09daef8e",
   "metadata": {},
   "outputs": [],
   "source": [
    "width = 200\n",
    "height = 100\n",
    "\n",
    "img = np.zeros((height, width, 3), np.uint8)\n",
    "img.fill(255)\n",
    "img[height//4:(height*3)//4, width//4:(width*3)//4] = [0,0,255]\n",
    "img[0:height, width-5:width] = [255,0,0]\n",
    "img[0:height, 0:5] = [0,255,0]\n",
    "img[height-5:height, 0:width] = [125,125,0]\n",
    "img[0:5, 0:width] = [0,125,125]\n",
    "\n",
    "\n",
    "cv.imshow(\"Image\", img)\n",
    "cv.waitKey(0)\n",
    "cv.destroyAllWindows()"
   ]
  }
 ],
 "metadata": {
  "kernelspec": {
   "display_name": "Python 3 (ipykernel)",
   "language": "python",
   "name": "python3"
  },
  "language_info": {
   "codemirror_mode": {
    "name": "ipython",
    "version": 3
   },
   "file_extension": ".py",
   "mimetype": "text/x-python",
   "name": "python",
   "nbconvert_exporter": "python",
   "pygments_lexer": "ipython3",
   "version": "3.9.9"
  }
 },
 "nbformat": 4,
 "nbformat_minor": 5
}
