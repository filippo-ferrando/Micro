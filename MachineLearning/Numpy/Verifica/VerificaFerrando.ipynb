{
 "cells": [
  {
   "cell_type": "markdown",
   "id": "5304e556",
   "metadata": {},
   "source": [
    "## Es 1\n",
    "\n",
    "Nel parco vicino alla scuola è\n",
    "installata una centralina per la misurazione del livello di polveri\n",
    "sottili PM10 nell'aria. Talvolta la centralina va in uno stato di errore\n",
    "per cui la misurazione delle PM10 fallisce ed il dato corrispondente\n",
    "riporta il valore 9999.9 all'interno dell'array delle misurazioni dati.\n",
    "Creare un array di 1000 campioni che generino dei valori secondo una\n",
    "distribuzione normale con valore medio 19 e varianza 5 e supporre che la\n",
    "centralina sia andata in errore 20 volte.\n",
    "\n",
    "individuare\n",
    "se ci sono due dati errati in finestre di al massimo 5 misurazioni consecutive\n",
    "e in tal caso segnalare che la centralina deve essere mandata in riparazione.\n",
    "\n",
    "ripulire i dati dai valori errati e calcolare media, massimo e minimo."
   ]
  },
  {
   "cell_type": "code",
   "execution_count": null,
   "id": "5482a572",
   "metadata": {},
   "outputs": [],
   "source": [
    "import numpy as np"
   ]
  },
  {
   "cell_type": "code",
   "execution_count": null,
   "id": "6603e1c3",
   "metadata": {},
   "outputs": [],
   "source": [
    "n = 1000\n",
    "pm10 = np.random.normal(19, 5, n) #creao array con media pari a 19 e deviazione pari a 5\n",
    "print(pm10)"
   ]
  },
  {
   "cell_type": "code",
   "execution_count": null,
   "id": "8eea7237",
   "metadata": {},
   "outputs": [],
   "source": [
    "pm10[np.random.choice(np.arange(n), size=(20,), replace=False)] = 9999.9 #inserisco 20 errori casualmente nell'array\n",
    "#print(pm10)"
   ]
  },
  {
   "cell_type": "code",
   "execution_count": null,
   "id": "0000a242",
   "metadata": {},
   "outputs": [],
   "source": [
    "#per sicurezza conto il numero degli errori\n",
    "cnt = 0\n",
    "for element in pm10:\n",
    "    if element == 9999.9:\n",
    "        cnt += 1\n",
    "            \n",
    "print(cnt)"
   ]
  },
  {
   "cell_type": "code",
   "execution_count": null,
   "id": "fb127bb6",
   "metadata": {},
   "outputs": [],
   "source": [
    "cord = np.argwhere(pm10 == 9999.9) #trovo le coordinate delle celle dove c'è 9999.9\n",
    "#print(cord)  "
   ]
  },
  {
   "cell_type": "code",
   "execution_count": null,
   "id": "227af9d6",
   "metadata": {},
   "outputs": [],
   "source": [
    "count = 0\n",
    "for element in range(pm10.size):#cerco di controllare l'elemento corrente e i 5 successivi controllando se nei 5 successivi si trova l'errore\n",
    "    for i in range(5):\n",
    "        if element + i < pm10.size: \n",
    "            if pm10[element + i] == 9999.9:\n",
    "                count += 1\n",
    "    if count >= 2:\n",
    "        print(\"Errore centralina\")\n",
    "        count = 0\n",
    "    count = 0"
   ]
  },
  {
   "cell_type": "code",
   "execution_count": null,
   "id": "ebcd9d48",
   "metadata": {},
   "outputs": [],
   "source": [
    "pm10 = np.delete(pm10, np.argwhere(pm10 == 9999.9)) #cancello le occorrenze dell'errore dall'array\n",
    "print(pm10)"
   ]
  },
  {
   "cell_type": "code",
   "execution_count": null,
   "id": "7980bad3",
   "metadata": {},
   "outputs": [],
   "source": [
    "media  = np.mean(pm10)\n",
    "minimo = pm10[np.argmin(pm10)]\n",
    "massimo = pm10[np.argmax(pm10)]\n",
    "\n",
    "print(media, massimo, minimo)"
   ]
  },
  {
   "cell_type": "markdown",
   "id": "a3b7fdd6",
   "metadata": {},
   "source": [
    "## Es 2\n",
    "\n",
    "Un braccio robotico industriale libero di muoversi avanti e indietro lungo una rotaia è impazzito. Ogni secondo si muove scegliendo a caso tra due possibili movimenti: 1 cm in avanti, oppure 1 cm indietro. Non è possibile togliere corrente al robot senza bloccare tutto lo stabilimento, quindi bisogna attendere lo spegnimento che si effettua tutti i fine settimana e oggi purtroppo è soltanto lunedì! Il nostro responsabile ci chiede di simulare lo spostamento totale che il robot avrà effettuato dopo 5 interi giorni di pazzia. Il robot è partito dalla posizione centrale della rotaia avente coordinata 0 cm."
   ]
  },
  {
   "cell_type": "code",
   "execution_count": null,
   "id": "74d01665",
   "metadata": {},
   "outputs": [],
   "source": [
    "mov = np.random.choice([-1, 1], 432000) #creo l'array formato da 1 e -1\n",
    "#print(mov)"
   ]
  },
  {
   "cell_type": "code",
   "execution_count": null,
   "id": "06371e7a",
   "metadata": {},
   "outputs": [],
   "source": [
    "cm = mov.sum() #faccio la somma di ogni elemento presente nell'array\n",
    "print(cm/100) #converto in metri"
   ]
  },
  {
   "cell_type": "markdown",
   "id": "434a43b6",
   "metadata": {},
   "source": [
    "## Es 1b\n",
    "\n",
    "Sul territorio comunale sono installate altre due centraline come la precendente ma queste inviano un segnale errato la prima con una frequenza dello 0.2% mentre la seconda dello 0.1%\n",
    "\n",
    "Creare una matrice avente 3 colonne e le righe contenente i dati di tutte e 3 le centraline registrati nelle 24 ore (si registra il dato ogni minuto)\n",
    "Eliminare tutte le righe della matrice in cui vi sia almeno una misura errata\n",
    "C'è stato un minuto in cui tutte e tre le centraline hanno inviato un errore?"
   ]
  },
  {
   "cell_type": "code",
   "execution_count": null,
   "id": "a8f8816a",
   "metadata": {},
   "outputs": [],
   "source": [
    "n = 34560 #numero di minuti in 24 ore\n",
    "\n",
    "pm10C1 = np.random.normal(19, 5, n) #creazione del array senza errori \n",
    "pm10C1[np.random.choice(np.arange(n), size=(20,), replace=False)] = 9999.9 #aggiunta degli errori\n",
    "\n",
    "print(pm10C1) #stampa di controllo\n",
    "print(\"\\n\")\n",
    "\n",
    "pm10C2 = np.random.normal(19, 5, n)\n",
    "pm10C2[np.random.choice(np.arange(n), size=(35,), replace=False)] = 9999.9 #percentuale calcolata\n",
    "\n",
    "print(pm10C2)\n",
    "print(\"\\n\")\n",
    "\n",
    "pm10C3 = np.random.normal(19, 5, n)\n",
    "pm10C3[np.random.choice(np.arange(n), size=(69,), replace=False)] = 9999.9\n",
    "\n",
    "print(pm10C3)"
   ]
  },
  {
   "cell_type": "code",
   "execution_count": null,
   "id": "65b156e3",
   "metadata": {},
   "outputs": [],
   "source": [
    "mat = np.array((pm10C1, pm10C2, pm10C3)).transpose() #metto tutte e tre le matrici in una sola grande matrice e faccio la transpose per ottenere le 3 colonne\n",
    "print(mat)"
   ]
  },
  {
   "cell_type": "code",
   "execution_count": null,
   "id": "96776abb",
   "metadata": {},
   "outputs": [],
   "source": [
    "for row in mat:\n",
    "    if row[0] == row[1] and row[0] == row[-1] and row[1] == row[-1]: #controllo se i valori presenti nella riga sono uguali tra di loro, e se lo sono vuol dire che allo stesso minuto le 3 centraline hanno mandato lo stesso risultato\n",
    "        print(\"riga uguale\")"
   ]
  },
  {
   "cell_type": "code",
   "execution_count": null,
   "id": "7713d585",
   "metadata": {},
   "outputs": [],
   "source": [
    "cord = np.argwhere(mat == 9999.9) #trovo l'indice della riga dove c'è un errore\n",
    "cord = cord[:,1] #\"taglio\" l'array per ottenere solo le colonne\n",
    "print(cord)  "
   ]
  },
  {
   "cell_type": "code",
   "execution_count": null,
   "id": "0776d573",
   "metadata": {},
   "outputs": [],
   "source": [
    "matEliminated = np.delete(mat, cord, axis=1) #elimino la riga contenente l'errore"
   ]
  },
  {
   "cell_type": "code",
   "execution_count": null,
   "id": "fa6df0d5",
   "metadata": {},
   "outputs": [],
   "source": [
    "cord = np.argwhere(matEliminated == 9999.9) #controllo dell'indice come sicurezza dell'eliminazione\n",
    "cord = cord[:,1] #\"taglio\" l'array per ottenere solo le colonne\n",
    "print(cord)  "
   ]
  },
  {
   "cell_type": "markdown",
   "id": "d27ccd3e",
   "metadata": {},
   "source": [
    "# 3\n",
    "\n",
    "Crea con Numpy le coordinate dei 4 vertici di 10 poligoni con x e y appartenenti all'intervallo [-100, 100]\n",
    "Dire quali sono dei rettangoli, dei rombi, dei parallelogrammi e quadrati"
   ]
  },
  {
   "cell_type": "code",
   "execution_count": null,
   "id": "836707c3",
   "metadata": {},
   "outputs": [],
   "source": [
    "arr = np.random.uniform(-100, 100, size=(10,4)) #creazione di un vettore randomico uniforme generante valori da -100 a 100 con shape di 10, 4\n",
    "print(arr)"
   ]
  }
 ],
 "metadata": {
  "kernelspec": {
   "display_name": "Python 3 (ipykernel)",
   "language": "python",
   "name": "python3"
  },
  "language_info": {
   "codemirror_mode": {
    "name": "ipython",
    "version": 3
   },
   "file_extension": ".py",
   "mimetype": "text/x-python",
   "name": "python",
   "nbconvert_exporter": "python",
   "pygments_lexer": "ipython3",
   "version": "3.9.9"
  }
 },
 "nbformat": 4,
 "nbformat_minor": 5
}
