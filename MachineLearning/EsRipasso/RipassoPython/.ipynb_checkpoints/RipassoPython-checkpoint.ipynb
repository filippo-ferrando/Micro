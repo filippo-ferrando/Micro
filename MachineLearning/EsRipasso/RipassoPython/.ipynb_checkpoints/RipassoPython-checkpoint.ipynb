{
 "cells": [
  {
   "cell_type": "markdown",
   "id": "b633839a",
   "metadata": {},
   "source": [
    "# Ripasso Python\n",
    "## Tuple\n",
    "Creazione tupla: `punto = (-1, 2)`  \n",
    "Assegnamento valori della tupla: `x, y = punto`  \n",
    "`print(f'{x}, {y}')` Risultato: -1, 2"
   ]
  },
  {
   "cell_type": "markdown",
   "id": "52557b98",
   "metadata": {},
   "source": [
    "## Liste\n",
    "Creazione lista: `lista = [0, 1, 'ciao']`  \n",
    "Visualizzare l'ultimo elemento della lista: `print(lista[-1])`  \n",
    "Risultato: ciao\n",
    "\n",
    "Visualizzare dall'elemento 1 all'elemento 3 **escluso**: `print(lista[1:3])`  \n",
    "Risultato: [1, 'ciao']\n",
    "\n",
    "\n",
    "Aggiungere elementi al fondo: `lista.append(\"!\")`\n",
    "\n",
    "Controllare presenza di un elemento nella lista: `if element in lista:`"
   ]
  },
  {
   "cell_type": "markdown",
   "id": "297f601e",
   "metadata": {},
   "source": [
    "## Dizionari\n",
    "Creazione dizionario: `dizionario = {'classe': '5AROB',  \n",
    "                                 'nAlunni': 17,  \n",
    "                                 'elenco': ['Alladio', 'Alpigiano', 'Bertoglio']}`\n",
    "\n",
    "`print(dizionario[classe])` Risultato: 5AROB  \n",
    "Inserimento chiave e valore: `dizionario['aula'] = 49`. Da input: `input(int(dizionario['aula']))`"
   ]
  },
  {
   "cell_type": "markdown",
   "id": "ad7a7e97",
   "metadata": {},
   "source": [
    "## For\n",
    "`stringa = 'Intelligenza artificiale'`  \n",
    "Fare in modo di stampare ogni carattere della stringa con un \"-\":  \n",
    "`for lettera in stringa:\n",
    "    print(lettera, end='-')\n",
    "print(stringa[-1])`"
   ]
  },
  {
   "cell_type": "code",
   "execution_count": 5,
   "id": "dde3841f",
   "metadata": {},
   "outputs": [
    {
     "name": "stdout",
     "output_type": "stream",
     "text": [
      "I-n-t-e-l-l-i-g-e-n-z-a- -a-r-t-i-f-i-c-i-a-l-e\n"
     ]
    }
   ],
   "source": [
    "stringa = 'Intelligenza artificiale'\n",
    "for lettera in stringa[:-1]:\n",
    "    print(lettera, end='-')\n",
    "print(stringa[-1])"
   ]
  },
  {
   "cell_type": "markdown",
   "id": "b5e133a7",
   "metadata": {},
   "source": [
    "Estrarre il dominio dai seguenti siti:  \n",
    "`lista = [\"www.kaggle.com\", \"www.wikipedia.org\", \"numphy.org\", \"www.python.org\"] \n",
    "cnt = 1\n",
    "for site in lista:\n",
    "    print(f'sito n. {cnt}: {site} su dominio {site.split(\".\")[-1]}')\n",
    "    cnt+=1`"
   ]
  },
  {
   "cell_type": "code",
   "execution_count": 20,
   "id": "65b754f2",
   "metadata": {},
   "outputs": [
    {
     "name": "stdout",
     "output_type": "stream",
     "text": [
      "sito n. 1: www.kaggle.com su dominio com\n",
      "sito n. 2: www.wikipedia.org su dominio org\n",
      "sito n. 3: numphy.org su dominio org\n",
      "sito n. 4: www.python.org su dominio org\n",
      "\n",
      "\n",
      "sito n. 1: www.kaggle.com su dominio com\n",
      "sito n. 2: www.wikipedia.org su dominio org\n",
      "sito n. 3: numphy.org su dominio org\n",
      "sito n. 4: www.python.org su dominio org\n"
     ]
    }
   ],
   "source": [
    "lista = [\"www.kaggle.com\", \"www.wikipedia.org\", \"numphy.org\", \"www.python.org\"]\n",
    "cnt = 1\n",
    "for site in lista:\n",
    "    print(f'sito n. {cnt}: {site} su dominio {site.split(\".\")[-1]}')\n",
    "    cnt+=1\n",
    "    \n",
    "print('\\n')\n",
    "\n",
    "#CON ENUMERATE\n",
    "for cnt, site in enumerate(lista):\n",
    "    print(f'sito n. {cnt+1}: {site} su dominio {site.split(\".\")[-1]}')\n"
   ]
  },
  {
   "cell_type": "markdown",
   "id": "03cca107",
   "metadata": {},
   "source": [
    "Il metodo **items()** dei dizionari ci permette di realizzare cicli `for` su chiave e valore per ciascun elemento del dizionario uno dopo l'altro"
   ]
  },
  {
   "cell_type": "code",
   "execution_count": 10,
   "id": "f4b67ac5",
   "metadata": {},
   "outputs": [
    {
     "name": "stdout",
     "output_type": "stream",
     "text": [
      "Nome chiave: nome - Valore: Random Forest\n",
      "Nome chiave: punteggio - Valore: 78.5\n",
      "Nome chiave: numero di feature - Valore: 2\n"
     ]
    }
   ],
   "source": [
    "modello = {'nome': 'Random Forest', 'punteggio': 78.5, 'numero di feature': 2}\n",
    "for chiave, valore in modello.items():\n",
    "    print(f'Nome chiave: {chiave} - Valore: {valore}')"
   ]
  },
  {
   "cell_type": "code",
   "execution_count": 1,
   "id": "0b510e8d",
   "metadata": {},
   "outputs": [
    {
     "ename": "ValueError",
     "evalue": "could not convert string to float: '31.33.00'",
     "output_type": "error",
     "traceback": [
      "\u001b[1;31m---------------------------------------------------------------------------\u001b[0m",
      "\u001b[1;31mValueError\u001b[0m                                Traceback (most recent call last)",
      "\u001b[1;32m<ipython-input-1-2e1c628c02c7>\u001b[0m in \u001b[0;36m<module>\u001b[1;34m\u001b[0m\n\u001b[0;32m     12\u001b[0m             \u001b[0mmarzDict\u001b[0m\u001b[1;33m[\u001b[0m\u001b[0mlabels\u001b[0m\u001b[1;33m[\u001b[0m\u001b[0mi\u001b[0m\u001b[1;33m]\u001b[0m\u001b[1;33m]\u001b[0m\u001b[1;33m.\u001b[0m\u001b[0mappend\u001b[0m\u001b[1;33m(\u001b[0m\u001b[0mint\u001b[0m\u001b[1;33m(\u001b[0m\u001b[0mcampo\u001b[0m\u001b[1;33m)\u001b[0m\u001b[1;33m)\u001b[0m\u001b[1;33m\u001b[0m\u001b[1;33m\u001b[0m\u001b[0m\n\u001b[0;32m     13\u001b[0m         \u001b[1;32melif\u001b[0m \u001b[0mcampo\u001b[0m \u001b[1;33m!=\u001b[0m \u001b[1;34m\"\"\u001b[0m \u001b[1;32mand\u001b[0m \u001b[0mall\u001b[0m\u001b[1;33m(\u001b[0m\u001b[0mc\u001b[0m\u001b[1;33m.\u001b[0m\u001b[0misdigit\u001b[0m\u001b[1;33m(\u001b[0m\u001b[1;33m)\u001b[0m \u001b[1;32mor\u001b[0m \u001b[0mc\u001b[0m \u001b[1;33m==\u001b[0m \u001b[1;34m'.'\u001b[0m \u001b[1;32mfor\u001b[0m \u001b[0mc\u001b[0m \u001b[1;32min\u001b[0m \u001b[0mcampo\u001b[0m\u001b[1;33m)\u001b[0m\u001b[1;33m:\u001b[0m\u001b[1;33m\u001b[0m\u001b[1;33m\u001b[0m\u001b[0m\n\u001b[1;32m---> 14\u001b[1;33m             \u001b[0mmarzDict\u001b[0m\u001b[1;33m[\u001b[0m\u001b[0mlabels\u001b[0m\u001b[1;33m[\u001b[0m\u001b[0mi\u001b[0m\u001b[1;33m]\u001b[0m\u001b[1;33m]\u001b[0m\u001b[1;33m.\u001b[0m\u001b[0mappend\u001b[0m\u001b[1;33m(\u001b[0m\u001b[0mfloat\u001b[0m\u001b[1;33m(\u001b[0m\u001b[0mcampo\u001b[0m\u001b[1;33m)\u001b[0m\u001b[1;33m)\u001b[0m\u001b[1;33m\u001b[0m\u001b[1;33m\u001b[0m\u001b[0m\n\u001b[0m\u001b[0;32m     15\u001b[0m             \u001b[1;31m#print([c.isdigit() or c == '.' for c in campo])\u001b[0m\u001b[1;33m\u001b[0m\u001b[1;33m\u001b[0m\u001b[1;33m\u001b[0m\u001b[0m\n\u001b[0;32m     16\u001b[0m         \u001b[1;32melse\u001b[0m\u001b[1;33m:\u001b[0m\u001b[1;33m\u001b[0m\u001b[1;33m\u001b[0m\u001b[0m\n",
      "\u001b[1;31mValueError\u001b[0m: could not convert string to float: '31.33.00'"
     ]
    }
   ],
   "source": [
    "file = open(\"marziani.csv\").readlines()\n",
    "marzDict = {}\n",
    "labels = []\n",
    "\n",
    "for label in file[0].split(\",\"):\n",
    "    marzDict[label] = []\n",
    "    labels.append(label)\n",
    "    \n",
    "for row in file[1:]:\n",
    "    for i, campo in enumerate(row[:-1].split(',')):\n",
    "        if campo.isdigit():\n",
    "            marzDict[labels[i]].append(int(campo))\n",
    "        elif campo != \"\" and all(c.isdigit() or c == '.' for c in campo):\n",
    "            marzDict[labels[i]].append(float(campo))\n",
    "            #print([c.isdigit() or c == '.' for c in campo])\n",
    "        else:\n",
    "            marzDict[labels[i]].append(campo)\n",
    "\n",
    "print(marzDict)"
   ]
  },
  {
   "cell_type": "markdown",
   "id": "4cf55aae",
   "metadata": {},
   "source": [
    "# Random"
   ]
  },
  {
   "cell_type": "code",
   "execution_count": 4,
   "id": "685f50fa",
   "metadata": {},
   "outputs": [
    {
     "name": "stdout",
     "output_type": "stream",
     "text": [
      "Su 100 lanci, 17 volte è uscito il numero 6\n"
     ]
    }
   ],
   "source": [
    "import random\n",
    "nLanci = 100\n",
    "nSei = 0\n",
    "for i in range (nLanci):\n",
    "    lancio = random.randint(1,6)\n",
    "    if lancio == 6:\n",
    "        nSei+=1\n",
    "\n",
    "print(f'Su {nLanci} lanci, {nSei} volte è uscito il numero 6')"
   ]
  },
  {
   "cell_type": "markdown",
   "id": "ea98b6a2",
   "metadata": {},
   "source": [
    "# List comprehension"
   ]
  },
  {
   "cell_type": "code",
   "execution_count": 6,
   "id": "a2920ee4",
   "metadata": {},
   "outputs": [
    {
     "name": "stdout",
     "output_type": "stream",
     "text": [
      "['pera', 'pesca']\n"
     ]
    }
   ],
   "source": [
    "vegetali = ['pera', 'banana', 'mela', 'broccoli', 'cavolfiori', 'albicocca', 'pesca']\n",
    "vegetali_p = [vegetale for vegetale in vegetali if vegetale[0] == 'p']\n",
    "print(vegetali_p)"
   ]
  },
  {
   "cell_type": "code",
   "execution_count": 9,
   "id": "bd55b704",
   "metadata": {},
   "outputs": [
    {
     "name": "stdout",
     "output_type": "stream",
     "text": [
      "[5, 1, 4, 0, 2, 5, 0, 0, 3, 0]\n"
     ]
    }
   ],
   "source": [
    "import random\n",
    "lanci = [random.randint(0,6) for lancio in range(10)]\n",
    "print(lanci)"
   ]
  },
  {
   "cell_type": "code",
   "execution_count": 11,
   "id": "a39124df",
   "metadata": {},
   "outputs": [
    {
     "name": "stdout",
     "output_type": "stream",
     "text": [
      "[0, 1, 4, 9, 16, 25, 36, 49, 64, 81]\n"
     ]
    }
   ],
   "source": [
    "quadrati = [numero*numero for numero in range(10)]\n",
    "print(quadrati)"
   ]
  },
  {
   "cell_type": "code",
   "execution_count": null,
   "id": "1a48955a",
   "metadata": {},
   "outputs": [],
   "source": [
    "file = open(\"seiPersonaggiInCercaDiAutore.txt\", \"r\")\n",
    "wordList = []\n",
    "frequences = {}\n",
    "\n",
    "for row in file:\n",
    "    word = row[:-1].split(' ')\n",
    "    for element in word:\n",
    "        if element != '':\n",
    "            wordList.append(element)\n",
    "\n",
    "while wordList:\n",
    "    wordCnt = 0\n",
    "    currentWord = wordList[0]\n",
    "    print('ciao')\n",
    "    for word in wordList:\n",
    "        if word == currentWord:\n",
    "            wordCnt += 1\n",
    "            wordList.remove(word)\n",
    "\n",
    "        frequences[currentWord] = wordCnt\n",
    "\n",
    "print(frequences)\n",
    "    "
   ]
  },
  {
   "cell_type": "code",
   "execution_count": null,
   "id": "639ea180",
   "metadata": {},
   "outputs": [],
   "source": []
  }
 ],
 "metadata": {
  "kernelspec": {
   "display_name": "Python 3",
   "language": "python",
   "name": "python3"
  },
  "language_info": {
   "codemirror_mode": {
    "name": "ipython",
    "version": 3
   },
   "file_extension": ".py",
   "mimetype": "text/x-python",
   "name": "python",
   "nbconvert_exporter": "python",
   "pygments_lexer": "ipython3",
   "version": "3.8.8"
  }
 },
 "nbformat": 4,
 "nbformat_minor": 5
}
