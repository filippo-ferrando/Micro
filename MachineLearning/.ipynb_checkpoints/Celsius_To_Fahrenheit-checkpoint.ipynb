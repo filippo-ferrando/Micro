{
 "cells": [
  {
   "cell_type": "markdown",
   "id": "e55d3b91",
   "metadata": {},
   "source": [
    "# Addestriamo una rete per convertire i gradi Celsius in gradi Fahrenheit\n",
    "## Fahrenheit = 32 + 1.8 * Celsius"
   ]
  },
  {
   "cell_type": "code",
   "execution_count": 1,
   "id": "3a9f6f7f",
   "metadata": {},
   "outputs": [],
   "source": [
    "from sklearn import datasets\n",
    "import pandas as pd\n",
    "import seaborn as sns\n",
    "import numpy as np"
   ]
  },
  {
   "cell_type": "code",
   "execution_count": 2,
   "id": "f6f35b3a",
   "metadata": {},
   "outputs": [
    {
     "name": "stdout",
     "output_type": "stream",
     "text": [
      "[48.30528954 33.01162504 31.06838027 36.09161246 45.56805013 47.27866014\n",
      " 37.45129023 33.59975015 35.71830729 33.00145955 37.21474889 41.21306044\n",
      " 45.03952273 30.6626275  32.77471595 41.63987539 47.13969089 30.7784867\n",
      " 32.90264928 36.75081157 38.05431786 48.09729762 47.7347464  41.1142835\n",
      " 36.51848862 41.14672389 32.80995095 43.63827874 48.39283844 39.19125591\n",
      " 36.23472238 30.93183107 40.99652429 47.48709917 39.92513602 36.56680761\n",
      " 45.76165457 43.74676175 37.13264424 36.57225864 49.65302526 43.968111\n",
      " 37.09571383 38.01658906 46.17490467 40.33985866 45.11066735 40.01819933\n",
      " 40.65863772 35.2251778  48.29330236 38.18962608 33.31222283 45.26173266\n",
      " 40.14089184 36.76952484 47.03036028 48.72031208 47.91946717 43.63916986\n",
      " 36.36989293 43.21333984 37.14921675 30.32066464 33.47691145 47.4602914\n",
      " 40.81296732 43.61439606 46.13790814 48.56850965 43.37569043 30.81705652\n",
      " 39.9612458  48.77967558 33.34194289 38.79056269 38.93510456 47.82077843\n",
      " 48.85178158 40.29094558 48.81483326 39.5675372  43.03179931 47.46741629\n",
      " 42.65205815 44.24381765 34.10182304 41.63031801 34.7691243  39.73762048\n",
      " 37.23979593 44.35542961 44.37227029 32.24338431 37.12496524 44.44735264\n",
      " 44.49538793 35.98453854 46.9322144  44.35944922]\n"
     ]
    }
   ],
   "source": [
    "n_campioni = 100\n",
    "celsius = np.random.uniform(30,50,n_campioni)\n",
    "print(celsius)"
   ]
  },
  {
   "cell_type": "code",
   "execution_count": 3,
   "id": "1c72fa78",
   "metadata": {},
   "outputs": [
    {
     "name": "stdout",
     "output_type": "stream",
     "text": [
      "[118.94952117  91.42092506  87.92308449  96.96490243 114.02249024\n",
      " 117.10158825  99.41232242  92.47955027  96.29295312  91.40262718\n",
      "  98.98654801 106.1835088  113.07114092  87.19272949  90.99448871\n",
      " 106.95177571 116.8514436   87.40127606  91.22476871  98.15146082\n",
      " 100.49777214 118.57513571 117.92254351 106.00571031  97.73327952\n",
      " 106.06410299  91.05791172 110.54890173 119.1071092  102.54426064\n",
      "  97.22250028  87.67729592 105.79374373 117.47677851 103.86524483\n",
      "  97.82025369 114.37097822 110.74417115  98.83875964  97.83006554\n",
      " 121.37544547 111.1425998   98.77228489 100.4298603  115.11482841\n",
      " 104.61174559 113.19920123 104.03275879 105.18554789  95.40532003\n",
      " 118.92794424 100.74132694  91.96200109 113.47111879 104.25360532\n",
      "  98.18514472 116.6546485  119.69656174 118.25504091 110.55050574\n",
      "  97.46580728 109.7840117   98.86859016  86.57719635  92.25844062\n",
      " 117.42852451 105.46334118 110.50591291 115.04823465 119.42331738\n",
      " 110.07624278  87.47070173 103.93024245 119.80341605  92.01549719\n",
      " 101.82301285 102.0831882  118.07740117 119.93320684 104.52370205\n",
      " 119.86669987 103.22156696 109.45723876 117.44134932 108.77370466\n",
      " 111.63887178  93.38328147 106.93457241  94.58442375 103.52771686\n",
      "  99.03163267 111.83977329 111.87008652  90.03809176  98.82493743\n",
      " 112.00523475 112.09169828  96.77216937 116.47798592 111.84700859]\n"
     ]
    }
   ],
   "source": [
    "fahrenheit = 32 + 1.8*celsius\n",
    "print(fahrenheit)"
   ]
  },
  {
   "cell_type": "code",
   "execution_count": 4,
   "id": "180c001e",
   "metadata": {},
   "outputs": [
    {
     "name": "stdout",
     "output_type": "stream",
     "text": [
      "[[48.30528954]\n",
      " [33.01162504]\n",
      " [31.06838027]\n",
      " [36.09161246]\n",
      " [45.56805013]] \n",
      "\n",
      "[118.94952117  91.42092506  87.92308449  96.96490243 114.02249024]\n"
     ]
    }
   ],
   "source": [
    "X = celsius.reshape(-1,1)\n",
    "y = fahrenheit\n",
    "print(X[:5], '\\n')\n",
    "print(y[:5])"
   ]
  },
  {
   "cell_type": "code",
   "execution_count": 5,
   "id": "f06d6443",
   "metadata": {},
   "outputs": [],
   "source": [
    "from sklearn.model_selection import train_test_split\n",
    "\n",
    "X_train, X_test, y_train, y_test = train_test_split(X, y, train_size=0.7, random_state=1) #train_size = percentuale di valori che vanno nel train (70%), il resto va nel test"
   ]
  },
  {
   "cell_type": "code",
   "execution_count": 6,
   "id": "1b4df8ec",
   "metadata": {},
   "outputs": [],
   "source": [
    "from sklearn.neural_network import MLPRegressor\n",
    "\n",
    "regr = MLPRegressor(random_state=1, activation='identity',max_iter=500, hidden_layer_sizes=(), solver='lbfgs')"
   ]
  },
  {
   "cell_type": "code",
   "execution_count": 8,
   "id": "9bcda187",
   "metadata": {},
   "outputs": [
    {
     "data": {
      "text/plain": [
       "MLPRegressor(activation='identity', hidden_layer_sizes=(), max_iter=500,\n",
       "             random_state=1, solver='lbfgs')"
      ]
     },
     "execution_count": 8,
     "metadata": {},
     "output_type": "execute_result"
    }
   ],
   "source": [
    "regr.fit(X_train, y_train)"
   ]
  },
  {
   "cell_type": "code",
   "execution_count": 9,
   "id": "0e5a4809",
   "metadata": {},
   "outputs": [
    {
     "data": {
      "text/plain": [
       "array([32.00000391])"
      ]
     },
     "execution_count": 9,
     "metadata": {},
     "output_type": "execute_result"
    }
   ],
   "source": [
    "regr.predict([[0]])"
   ]
  },
  {
   "cell_type": "code",
   "execution_count": null,
   "id": "6f30dd4a",
   "metadata": {},
   "outputs": [],
   "source": []
  }
 ],
 "metadata": {
  "kernelspec": {
   "display_name": "Python 3 (ipykernel)",
   "language": "python",
   "name": "python3"
  },
  "language_info": {
   "codemirror_mode": {
    "name": "ipython",
    "version": 3
   },
   "file_extension": ".py",
   "mimetype": "text/x-python",
   "name": "python",
   "nbconvert_exporter": "python",
   "pygments_lexer": "ipython3",
   "version": "3.10.2"
  }
 },
 "nbformat": 4,
 "nbformat_minor": 5
}
