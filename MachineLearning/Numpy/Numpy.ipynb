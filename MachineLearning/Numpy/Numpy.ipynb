{
 "cells": [
  {
   "cell_type": "markdown",
   "id": "33de170f",
   "metadata": {},
   "source": [
    "# Creare ndarray da liste, tuple es intervalli"
   ]
  },
  {
   "cell_type": "code",
   "execution_count": 1,
   "id": "efe7c451",
   "metadata": {},
   "outputs": [
    {
     "name": "stdout",
     "output_type": "stream",
     "text": [
      "a1: [1 2 3]\n",
      "a2: [  1 255   3]\n",
      "a3: [0. 1. 2. 3. 4. 5. 6. 7. 8. 9.]\n",
      "a4: [4 6 8]\n",
      "a5: [ 0.   2.5  5.   7.5 10. ]\n"
     ]
    }
   ],
   "source": [
    "import numpy as np\n",
    "\n",
    "a1 = np.array((1, 2, 3)) #array da tupla\n",
    "a2 = np.array([1.6, -1, 3], np.uint8) #array da lista con specifica di tipo\n",
    "a3 = np.arange(10, dtype = float) #array da range [0...STOP] con passo 1 e specifica di tipo\n",
    "a4 = np.arange(4, 10, 2) #array da range [START...STOP] con passo 2\n",
    "a5 = np.linspace(0, 10, 5) #array di 5 numeri equalmente distribuiti in [START...STOP]\n",
    "\n",
    "print(\"a1:\", a1)\n",
    "print(\"a2:\", a2)\n",
    "print(\"a3:\", a3)\n",
    "print(\"a4:\", a4)\n",
    "print(\"a5:\", a5)"
   ]
  },
  {
   "cell_type": "markdown",
   "id": "16076eae",
   "metadata": {},
   "source": [
    "# Creare un vettore di tutti zero, uno o di un valore specificato"
   ]
  },
  {
   "cell_type": "code",
   "execution_count": 2,
   "id": "0d7b82d6",
   "metadata": {},
   "outputs": [
    {
     "name": "stdout",
     "output_type": "stream",
     "text": [
      "[0 0 0 0 0] \n",
      "\n",
      "[1. 1. 1. 1. 1.] \n",
      "\n",
      "[[0. 0. 0.]\n",
      " [0. 0. 0.]] \n",
      "\n",
      "[[3. 3. 3.]\n",
      " [3. 3. 3.]]\n"
     ]
    }
   ],
   "source": [
    "a6 = np.zeros(5, dtype = np.uint) #array di 0 con specifica di tipo (per default float64)\n",
    "a7 = np.ones(5) #array di 1 (per default float64)\n",
    "a8 = np.zeros((2,3)) #array di 0 con dimensioni specificate\n",
    "\n",
    "print(a6, '\\n')\n",
    "print(a7, '\\n')\n",
    "print(a8, '\\n')\n",
    "a8.fill(3)\n",
    "print(a8)\n"
   ]
  },
  {
   "cell_type": "code",
   "execution_count": 8,
   "id": "b57e76ad",
   "metadata": {},
   "outputs": [
    {
     "ename": "TypeError",
     "evalue": "rand() got an unexpected keyword argument 'size'",
     "output_type": "error",
     "traceback": [
      "\u001b[0;31m---------------------------------------------------------------------------\u001b[0m",
      "\u001b[0;31mTypeError\u001b[0m                                 Traceback (most recent call last)",
      "\u001b[0;32m/tmp/ipykernel_2669/2042965136.py\u001b[0m in \u001b[0;36m<module>\u001b[0;34m\u001b[0m\n\u001b[1;32m      2\u001b[0m \u001b[0;34m\u001b[0m\u001b[0m\n\u001b[1;32m      3\u001b[0m \u001b[0ma1\u001b[0m \u001b[0;34m=\u001b[0m \u001b[0mnp\u001b[0m\u001b[0;34m.\u001b[0m\u001b[0mrandom\u001b[0m\u001b[0;34m.\u001b[0m\u001b[0mrand\u001b[0m\u001b[0;34m(\u001b[0m\u001b[0;36m2\u001b[0m\u001b[0;34m,\u001b[0m\u001b[0;36m3\u001b[0m\u001b[0;34m)\u001b[0m \u001b[0;31m#matrice 2x3 con numeri casuali in [0...1]\u001b[0m\u001b[0;34m\u001b[0m\u001b[0;34m\u001b[0m\u001b[0m\n\u001b[0;32m----> 4\u001b[0;31m \u001b[0ma2\u001b[0m \u001b[0;34m=\u001b[0m \u001b[0;34m(\u001b[0m\u001b[0mnp\u001b[0m\u001b[0;34m.\u001b[0m\u001b[0mrandom\u001b[0m\u001b[0;34m.\u001b[0m\u001b[0mrand\u001b[0m\u001b[0;34m(\u001b[0m\u001b[0;34m[\u001b[0m\u001b[0;36m1\u001b[0m\u001b[0;34m,\u001b[0m\u001b[0;36m7\u001b[0m\u001b[0;34m]\u001b[0m\u001b[0;34m,\u001b[0m\u001b[0msize\u001b[0m \u001b[0;34m=\u001b[0m \u001b[0;34m[\u001b[0m\u001b[0;36m2\u001b[0m\u001b[0;34m,\u001b[0m\u001b[0;36m3\u001b[0m\u001b[0;34m]\u001b[0m\u001b[0;34m)\u001b[0m\u001b[0;34m)\u001b[0m \u001b[0;31m#matrice 2x3 con numeri casuali in [0...1]\u001b[0m\u001b[0;34m\u001b[0m\u001b[0;34m\u001b[0m\u001b[0m\n\u001b[0m\u001b[1;32m      5\u001b[0m \u001b[0;34m\u001b[0m\u001b[0m\n\u001b[1;32m      6\u001b[0m \u001b[0;34m\u001b[0m\u001b[0m\n",
      "\u001b[0;31mTypeError\u001b[0m: rand() got an unexpected keyword argument 'size'"
     ]
    }
   ],
   "source": [
    "import numpy as np\n",
    "\n",
    "a1 = np.random.rand(2,3) #matrice 2x3 con numeri casuali in [0...1]\n",
    "a2 = (np.random.rand([1,7],size = [2,3])) #matrice 2x3 con numeri casuali in [0...1]\n",
    "\n",
    "\n",
    "\n",
    "print(a1)\n",
    "print(a2)"
   ]
  },
  {
   "cell_type": "code",
   "execution_count": 5,
   "id": "c6acb04c",
   "metadata": {},
   "outputs": [
    {
     "name": "stdout",
     "output_type": "stream",
     "text": [
      "['testa' 'croce' 'testa' 'testa' 'testa' 'testa' 'testa' 'croce']\n",
      "['qua' 'quo' 'qui']\n",
      "[[  1   2]\n",
      " [ 10  20]\n",
      " [100 200]]\n",
      "Numero di dimensioni 2\n",
      "[[  1]\n",
      " [  2]\n",
      " [ 10]\n",
      " [ 20]\n",
      " [100]\n",
      " [200]]\n",
      "[[  1   2  10]\n",
      " [ 20 100 200]]\n"
     ]
    }
   ],
   "source": [
    "import random\n",
    "import numpy as np\n",
    "\n",
    "print(np.random.choice(['testa', 'croce'], size = 8, p = [0.8, 0.2])) #probabilità maggiore su testa\n",
    "print(np.random.choice(['qui', 'quo', 'qua'], size = 3, replace = False)) #senza ripetizioni\n",
    "\n",
    "ndarray = np.array([[1,2], [10,20], [100,200]])\n",
    "print(ndarray)\n",
    "print('Numero di dimensioni', np.ndim(ndarray))\n",
    "\n",
    "#modifica della struttura\n",
    "ndarray.shape = (6,1)\n",
    "print(ndarray)\n",
    "math = ndarray.reshape(2,-1)\n",
    "print(math)"
   ]
  }
 ],
 "metadata": {
  "kernelspec": {
   "display_name": "Python 3 (ipykernel)",
   "language": "python",
   "name": "python3"
  },
  "language_info": {
   "codemirror_mode": {
    "name": "ipython",
    "version": 3
   },
   "file_extension": ".py",
   "mimetype": "text/x-python",
   "name": "python",
   "nbconvert_exporter": "python",
   "pygments_lexer": "ipython3",
   "version": "3.9.7"
  }
 },
 "nbformat": 4,
 "nbformat_minor": 5
}
