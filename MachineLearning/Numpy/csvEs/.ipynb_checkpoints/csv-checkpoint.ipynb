{
 "cells": [
  {
   "cell_type": "code",
   "execution_count": 25,
   "id": "82a9c7e1",
   "metadata": {},
   "outputs": [],
   "source": [
    "import numpy as np\n",
    "import csv\n",
    "import sys\n",
    "\n",
    "np.set_printoptions(threshold=sys.maxsize)\n",
    "\n",
    "dat = []\n",
    "dat2 = []\n",
    "\n",
    "with open(\"richiesta_dati_gg_80749_parte2.csv\", newline=\"\") as file:\n",
    "    read = csv.reader(file,delimiter=\";\")\n",
    "    for i in range(10):\n",
    "        next(read)\n",
    "    \n",
    "    for line in read:\n",
    "        l = line[0].split()\n",
    "        #print(l)\n",
    "        if l[2] != \" \" and l[-1] != \" \" and l[2] != \"2021-12-06\" and l[-1] != \"UTC\" and l[2] != \",\" and l[-1] != \",\":\n",
    "            dat.append(l[2])\n",
    "            dat.append(l[-1])\n",
    "        \n",
    "\n",
    "aV1 = np.array(dat).reshape(-1,2)\n",
    "\n",
    "with open(\"richiesta_dati_gg_80749_parte4.csv\", newline=\"\") as file:\n",
    "    read = csv.reader(file,delimiter=\";\")\n",
    "    for i in range(10):\n",
    "        next(read)\n",
    "    \n",
    "    for line in read:\n",
    "        l = line[0].split()\n",
    "        #print(l)\n",
    "        if l[2] != \" \" and l[-1] != \" \" and l[2] != \"2021-12-06\" and l[-1] != \"UTC\" and l[2] != \",\" and l[-1] != \",\":\n",
    "            dat2.append(l[2])\n",
    "            dat2.append(l[-1])\n",
    "        \n",
    "\n",
    "aV2 = np.array(dat2).reshape(-1,2)"
   ]
  },
  {
   "cell_type": "code",
   "execution_count": null,
   "id": "8f35e1de",
   "metadata": {},
   "outputs": [],
   "source": []
  }
 ],
 "metadata": {
  "kernelspec": {
   "display_name": "Python 3 (ipykernel)",
   "language": "python",
   "name": "python3"
  },
  "language_info": {
   "codemirror_mode": {
    "name": "ipython",
    "version": 3
   },
   "file_extension": ".py",
   "mimetype": "text/x-python",
   "name": "python",
   "nbconvert_exporter": "python",
   "pygments_lexer": "ipython3",
   "version": "3.9.9"
  }
 },
 "nbformat": 4,
 "nbformat_minor": 5
}
