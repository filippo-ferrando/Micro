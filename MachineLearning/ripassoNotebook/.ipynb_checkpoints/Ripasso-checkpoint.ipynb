{
 "cells": [
  {
   "cell_type": "markdown",
   "id": "7083c6bf",
   "metadata": {},
   "source": [
    "# Ripasso Python"
   ]
  },
  {
   "cell_type": "markdown",
   "id": "c1a9c946",
   "metadata": {},
   "source": [
    "#### rivedere tuple"
   ]
  },
  {
   "cell_type": "markdown",
   "id": "49b6a52a",
   "metadata": {},
   "source": [
    "```+ potenza```\n",
    "```+ lentezza```"
   ]
  },
  {
   "cell_type": "code",
   "execution_count": null,
   "id": "7a1a33d2",
   "metadata": {},
   "outputs": [],
   "source": []
  }
 ],
 "metadata": {
  "kernelspec": {
   "display_name": "Python 3 (ipykernel)",
   "language": "python",
   "name": "python3"
  },
  "language_info": {
   "codemirror_mode": {
    "name": "ipython",
    "version": 3
   },
   "file_extension": ".py",
   "mimetype": "text/x-python",
   "name": "python",
   "nbconvert_exporter": "python",
   "pygments_lexer": "ipython3",
   "version": "3.9.7"
  }
 },
 "nbformat": 4,
 "nbformat_minor": 5
}
