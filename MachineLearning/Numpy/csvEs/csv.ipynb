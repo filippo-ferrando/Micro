{
 "cells": [
  {
   "cell_type": "code",
   "execution_count": 30,
   "id": "82a9c7e1",
   "metadata": {},
   "outputs": [
    {
     "name": "stdout",
     "output_type": "stream",
     "text": [
      "1099\n"
     ]
    }
   ],
   "source": [
    "#versione forse sbagliata 1099\n",
    "import numpy as np\n",
    "import csv\n",
    "import sys\n",
    "\n",
    "np.set_printoptions(threshold=sys.maxsize)\n",
    "\n",
    "dat = []\n",
    "dat2 = []\n",
    "\n",
    "with open(\"richiesta_dati_gg_80749_parte2.csv\", newline=\"\") as file:\n",
    "    read = csv.reader(file,delimiter=\";\")\n",
    "    for i in range(10):\n",
    "        next(read)\n",
    "    \n",
    "    for line in read:\n",
    "        l = line[0].split()\n",
    "        #print(l)\n",
    "        if l[2] != \" \" and l[-1] != \" \" and l[2] != \"2021-12-06\" and l[-1] != \"UTC\" and l[2] != \",\" and l[-1] != \",\":\n",
    "            dat.append(l[2])\n",
    "            dat.append(l[-1])\n",
    "        \n",
    "\n",
    "aV1 = np.array(dat).reshape(-1,2)\n",
    "\n",
    "with open(\"richiesta_dati_gg_80749_parte4.csv\", newline=\"\") as file2:\n",
    "    read2 = csv.reader(file2,delimiter=\";\")\n",
    "    for i in range(10):\n",
    "        next(read2)\n",
    "    \n",
    "    for line in read2:\n",
    "        l = line[0].split()\n",
    "        #print(l)\n",
    "        if l[2] != \" \" and l[-1] != \" \" and l[2] != \"2021-12-06\" and l[-1] != \"UTC\" and l[2] != \",\" and l[-1] != \",\":\n",
    "            dat2.append(l[2])\n",
    "            dat2.append(l[-1])\n",
    "        \n",
    "\n",
    "aV2 = np.array(dat2).reshape(-1,2)\n",
    "\n",
    "aV1NN = np.sum(aV1[:,0] == '0')\n",
    "aV2NN = np.sum(aV2[:,0] == '0')\n",
    "\n",
    "print(aV1NN + aV2NN)"
   ]
  },
  {
   "cell_type": "code",
   "execution_count": 27,
   "id": "9f842be8",
   "metadata": {},
   "outputs": [
    {
     "name": "stdout",
     "output_type": "stream",
     "text": [
      "Il giorni senza neve rilevati dalla stazione 1 sono -> 723\n",
      "Il giorni senza neve rilevati dalla stazione 2 sono -> 377\n"
     ]
    }
   ],
   "source": [
    "#versione forse giusta da 1200\n",
    "import numpy as np\n",
    "\n",
    "def list_creation(file):\n",
    "    temp_list = []\n",
    "\n",
    "    for row in file[10:-1]:\n",
    "        for element in row.split(\",\"):\n",
    "            if \"\\n\" in element:\n",
    "                element = element[:-1]\n",
    "\n",
    "\n",
    "    for row in file[10:-1]:\n",
    "        for element in row.split(\",\"):\n",
    "            if element != \"\" or element != \" \":\n",
    "                temp_list.append(element.strip())\n",
    "\n",
    "    return temp_list\n",
    "\n",
    "def no_neve(array):\n",
    "    return np.sum(array[:,1] == '0')\n",
    "\n",
    "def main():\n",
    "    staz1 = open(\"richiesta_dati_gg_80749_parte2.csv\").readlines()\n",
    "    staz2 = open(\"richiesta_dati_gg_80749_parte4.csv\").readlines()\n",
    "\n",
    "    array_staz1 = np.array(list_creation(staz1)).reshape(-1,3)\n",
    "    array_staz2 = np.array(list_creation(staz2)).reshape(-1,3)\n",
    "\n",
    "    print(f\"Il giorni senza neve rilevati dalla stazione 1 sono -> {no_neve(array_staz1)}\")\n",
    "    print(f\"Il giorni senza neve rilevati dalla stazione 2 sono -> {no_neve(array_staz2)}\")\n",
    "\n",
    "main()"
   ]
  }
 ],
 "metadata": {
  "kernelspec": {
   "display_name": "Python 3 (ipykernel)",
   "language": "python",
   "name": "python3"
  },
  "language_info": {
   "codemirror_mode": {
    "name": "ipython",
    "version": 3
   },
   "file_extension": ".py",
   "mimetype": "text/x-python",
   "name": "python",
   "nbconvert_exporter": "python",
   "pygments_lexer": "ipython3",
   "version": "3.9.9"
  }
 },
 "nbformat": 4,
 "nbformat_minor": 5
}
