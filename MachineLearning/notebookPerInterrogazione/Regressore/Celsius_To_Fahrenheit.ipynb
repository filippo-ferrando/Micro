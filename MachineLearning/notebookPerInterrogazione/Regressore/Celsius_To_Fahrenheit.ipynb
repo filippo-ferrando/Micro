{
 "cells": [
  {
   "cell_type": "markdown",
   "id": "e55d3b91",
   "metadata": {},
   "source": [
    "# Addestriamo una rete per convertire i gradi Celsius in gradi Fahrenheit\n",
    "## Fahrenheit = 32 + 1.8 * Celsius"
   ]
  },
  {
   "cell_type": "code",
   "execution_count": 1,
   "id": "3a9f6f7f",
   "metadata": {},
   "outputs": [],
   "source": [
    "from sklearn import datasets\n",
    "import pandas as pd\n",
    "import seaborn as sns\n",
    "import numpy as np"
   ]
  },
  {
   "cell_type": "code",
   "execution_count": 2,
   "id": "f6f35b3a",
   "metadata": {},
   "outputs": [
    {
     "name": "stdout",
     "output_type": "stream",
     "text": [
      "[40.08213341 35.28552518 36.38974767 47.53046497 44.45195624 38.388266\n",
      " 32.52689225 44.27019519 36.49086656 46.62884128 46.50109716 39.38260941\n",
      " 36.30146431 46.28135447 40.30614017 48.3426419  40.29970638 35.69696814\n",
      " 35.3564773  42.08264265 32.07235146 48.37381566 40.63790259 37.50646071\n",
      " 44.61127401 39.39147552 41.25985209 47.29495869 48.88433012 42.80074524\n",
      " 49.98888704 47.54341365 36.73176726 30.19151543 44.4184494  38.03679704\n",
      " 32.09501625 41.89245146 32.01917845 47.51213222 38.39913408 48.53823395\n",
      " 49.04380868 36.28794654 37.64869396 38.71583709 34.35124583 30.71877571\n",
      " 46.00576303 36.58319267 49.3767216  49.6110937  35.0580339  37.46602251\n",
      " 37.64698326 31.67067671 34.44977403 39.35192804 44.9247791  45.22979282\n",
      " 49.68332093 31.66670874 45.75303045 33.61343214 47.44356496 43.50973421\n",
      " 43.33897206 46.8262618  43.16541414 38.75110113 36.95535414 36.15967265\n",
      " 49.1576278  41.42438774 46.62182915 46.80740992 30.79063941 37.01448715\n",
      " 40.07830086 36.82084482 41.36899174 41.07311577 41.59085918 49.4068116\n",
      " 36.11422562 39.84219696 32.91035207 42.06450505 31.6976986  42.04638691\n",
      " 46.81024198 47.36034496 36.75276957 38.76040466 48.8879702  38.78137333\n",
      " 38.63684194 48.50567834 33.90932163 32.98462268]\n"
     ]
    }
   ],
   "source": [
    "n_campioni = 100\n",
    "celsius = np.random.uniform(30,50,n_campioni)\n",
    "print(celsius)"
   ]
  },
  {
   "cell_type": "code",
   "execution_count": 3,
   "id": "1c72fa78",
   "metadata": {},
   "outputs": [
    {
     "name": "stdout",
     "output_type": "stream",
     "text": [
      "[104.14784013  95.51394533  97.50154581 117.55483695 112.01352124\n",
      " 101.09887881  90.54840605 111.68635135  97.68355981 115.9319143\n",
      " 115.70197488 102.88869693  97.34263575 115.30643804 104.5510523\n",
      " 119.01675543 104.53947149  96.25454265  95.64165914 107.74875676\n",
      "  89.73023263 119.07286819 105.14822466  99.51162927 112.30029322\n",
      " 102.90465594 106.26773375 117.13092563 119.99179421 109.04134143\n",
      " 121.97999667 117.57814456  98.11718107  86.34472778 111.95320892\n",
      " 100.46623467  89.77102924 107.40641263  89.63452121 117.52183799\n",
      " 101.11844134 119.36882112 120.27885563  97.31830378  99.76764912\n",
      " 101.68850677  93.8322425   87.29379628 114.81037345  97.84974681\n",
      " 120.87809889 121.29996866  95.10446103  99.43884053  99.76456987\n",
      "  89.00721807  94.00959325 102.83347047 112.86460238 113.41362708\n",
      " 121.42997767  89.00007573 114.35545482  92.50417786 117.39841692\n",
      " 110.31752158 110.0101497  116.28727124 109.69774546 101.75198203\n",
      "  98.51963745  97.08741078 120.48373005 106.56389793 115.91929246\n",
      " 116.25333786  87.42315094  98.62607688 104.14094155  98.27752067\n",
      " 106.46418514 105.93160838 106.86354652 120.93226089  97.00560612\n",
      " 103.71595453  91.23863373 107.71610909  89.05585748 107.68349644\n",
      " 116.25843556 117.24862094  98.15498522 101.7687284  119.99834637\n",
      " 101.806472   101.54631549 119.31022102  93.03677894  91.37232083]\n"
     ]
    }
   ],
   "source": [
    "fahrenheit = 32 + 1.8*celsius\n",
    "print(fahrenheit)"
   ]
  },
  {
   "cell_type": "code",
   "execution_count": 4,
   "id": "180c001e",
   "metadata": {},
   "outputs": [
    {
     "name": "stdout",
     "output_type": "stream",
     "text": [
      "[[40.08213341]\n",
      " [35.28552518]\n",
      " [36.38974767]\n",
      " [47.53046497]\n",
      " [44.45195624]] \n",
      "\n",
      "[104.14784013  95.51394533  97.50154581 117.55483695 112.01352124]\n"
     ]
    }
   ],
   "source": [
    "X = celsius.reshape(-1,1)\n",
    "y = fahrenheit\n",
    "print(X[:5], '\\n')\n",
    "print(y[:5])"
   ]
  },
  {
   "cell_type": "code",
   "execution_count": 5,
   "id": "f06d6443",
   "metadata": {},
   "outputs": [],
   "source": [
    "from sklearn.model_selection import train_test_split\n",
    "\n",
    "X_train, X_test, y_train, y_test = train_test_split(X, y, train_size=0.7, random_state=1) #train_size = percentuale di valori che vanno nel train (70%), il resto va nel test"
   ]
  },
  {
   "cell_type": "code",
   "execution_count": 6,
   "id": "1b4df8ec",
   "metadata": {},
   "outputs": [],
   "source": [
    "from sklearn.neural_network import MLPRegressor\n",
    "\n",
    "regr = MLPRegressor(random_state=1, activation='identity',max_iter=500, hidden_layer_sizes=(), solver='lbfgs')"
   ]
  },
  {
   "cell_type": "code",
   "execution_count": 7,
   "id": "9bcda187",
   "metadata": {},
   "outputs": [
    {
     "data": {
      "text/plain": [
       "MLPRegressor(activation='identity', hidden_layer_sizes=(), max_iter=500,\n",
       "             random_state=1, solver='lbfgs')"
      ]
     },
     "execution_count": 7,
     "metadata": {},
     "output_type": "execute_result"
    }
   ],
   "source": [
    "regr.fit(X_train, y_train)"
   ]
  },
  {
   "cell_type": "code",
   "execution_count": 8,
   "id": "d6cde8f0",
   "metadata": {},
   "outputs": [
    {
     "data": {
      "text/plain": [
       "array([32.00000357])"
      ]
     },
     "execution_count": 8,
     "metadata": {},
     "output_type": "execute_result"
    }
   ],
   "source": [
    "regr.predict([[0]])"
   ]
  },
  {
   "cell_type": "code",
   "execution_count": 9,
   "id": "ec202983",
   "metadata": {},
   "outputs": [
    {
     "data": {
      "text/plain": [
       "array([106.4641874 ,  97.00560855,  86.3447304 , 105.93161065,\n",
       "       101.76873075,  96.2545451 ,  89.7710318 , 106.86354878,\n",
       "       101.75198438, 110.31752378,  98.15498763, 117.52184006,\n",
       "        94.00959574,  95.10446349, 121.29997067,  98.11718349,\n",
       "       117.57814664,  99.7676515 , 104.14094386, 115.70197698,\n",
       "        97.50154824, 106.5639002 , 119.31022306, 114.35545694,\n",
       "       107.74875901, 100.46623705, 119.99834839, 117.13092771,\n",
       "        93.83224499,  89.63452377])"
      ]
     },
     "execution_count": 9,
     "metadata": {},
     "output_type": "execute_result"
    }
   ],
   "source": [
    "regr.predict(X_test)"
   ]
  },
  {
   "cell_type": "code",
   "execution_count": 10,
   "id": "2a63640a",
   "metadata": {},
   "outputs": [
    {
     "name": "stdout",
     "output_type": "stream",
     "text": [
      "TRAIN\n",
      "mae:0.0000022792\n",
      "TRAIN\n",
      "mae:0.0000023030\n"
     ]
    }
   ],
   "source": [
    "from sklearn.metrics import mean_absolute_error\n",
    "\n",
    "print(\"TRAIN\")\n",
    "predictions = regr.predict(X_train)\n",
    "mae = mean_absolute_error(predictions, y_train)\n",
    "print(f'mae:{mae:.10f}')\n",
    "\n",
    "print(\"TRAIN\")\n",
    "predictions = regr.predict(X_test)\n",
    "mae = mean_absolute_error(predictions, y_test)\n",
    "print(f'mae:{mae:.10f}')"
   ]
  },
  {
   "cell_type": "code",
   "execution_count": 11,
   "id": "ab5e81d2",
   "metadata": {},
   "outputs": [
    {
     "name": "stdout",
     "output_type": "stream",
     "text": [
      "[0.0000022659 0.0000024318 0.0000026187 0.0000022752 0.0000023482\n",
      " 0.0000024449 0.0000025586 0.0000022589 0.0000023485 0.0000021983\n",
      " 0.0000024116 0.000002072  0.0000024843 0.0000024651 0.0000020058\n",
      " 0.0000024123 0.000002071  0.0000023833 0.0000023066 0.0000021039\n",
      " 0.0000024231 0.0000022642 0.0000020406 0.0000021275 0.0000022434\n",
      " 0.0000023711 0.0000020286 0.0000020789 0.0000024874 0.000002561 ]\n"
     ]
    }
   ],
   "source": [
    "np.set_printoptions(precision=10, suppress=True)\n",
    "print(regr.predict(X_test)-y_test)"
   ]
  },
  {
   "cell_type": "code",
   "execution_count": 12,
   "id": "49579690",
   "metadata": {},
   "outputs": [
    {
     "data": {
      "text/plain": [
       "[array([[1.7999999684]])]"
      ]
     },
     "execution_count": 12,
     "metadata": {},
     "output_type": "execute_result"
    }
   ],
   "source": [
    "regr.coefs_ #mostra il vettore di pesi che ha imparato"
   ]
  },
  {
   "cell_type": "code",
   "execution_count": 13,
   "id": "52e28f9a",
   "metadata": {},
   "outputs": [
    {
     "data": {
      "text/plain": [
       "[array([32.0000035717])]"
      ]
     },
     "execution_count": 13,
     "metadata": {},
     "output_type": "execute_result"
    }
   ],
   "source": [
    "regr.intercepts_"
   ]
  },
  {
   "cell_type": "markdown",
   "id": "799b6b4b",
   "metadata": {},
   "source": [
    "## Salvataggio del modello"
   ]
  },
  {
   "cell_type": "code",
   "execution_count": 14,
   "id": "9f30ea70",
   "metadata": {},
   "outputs": [
    {
     "ename": "NameError",
     "evalue": "name 'caso_std' is not defined",
     "output_type": "error",
     "traceback": [
      "\u001b[0;31m---------------------------------------------------------------------------\u001b[0m",
      "\u001b[0;31mNameError\u001b[0m                                 Traceback (most recent call last)",
      "Input \u001b[0;32mIn [14]\u001b[0m, in \u001b[0;36m<module>\u001b[0;34m\u001b[0m\n\u001b[1;32m      6\u001b[0m \u001b[38;5;66;03m#per importare\u001b[39;00m\n\u001b[1;32m      7\u001b[0m modelImportato \u001b[38;5;241m=\u001b[39m load(\u001b[38;5;124m'\u001b[39m\u001b[38;5;124mCelsius_To_Fahrenheit.joblib\u001b[39m\u001b[38;5;124m'\u001b[39m)\n\u001b[0;32m----> 8\u001b[0m \u001b[38;5;28mprint\u001b[39m(modelImportato\u001b[38;5;241m.\u001b[39mpredict([\u001b[43mcaso_std\u001b[49m]))\n",
      "\u001b[0;31mNameError\u001b[0m: name 'caso_std' is not defined"
     ]
    }
   ],
   "source": [
    "from joblib import dump,load\n",
    "\n",
    "#per esportare\n",
    "dump(regr, 'Celsius_To_Fahrenheit.joblib')\n",
    "\n",
    "#per importare\n",
    "modelImportato = load('Celsius_To_Fahrenheit.joblib')\n",
    "print(modelImportato.predict([caso_std]))"
   ]
  },
  {
   "cell_type": "code",
   "execution_count": null,
   "id": "9603831a",
   "metadata": {},
   "outputs": [],
   "source": [
    " "
   ]
  }
 ],
 "metadata": {
  "kernelspec": {
   "display_name": "Python 3 (ipykernel)",
   "language": "python",
   "name": "python3"
  },
  "language_info": {
   "codemirror_mode": {
    "name": "ipython",
    "version": 3
   },
   "file_extension": ".py",
   "mimetype": "text/x-python",
   "name": "python",
   "nbconvert_exporter": "python",
   "pygments_lexer": "ipython3",
   "version": "3.10.4"
  }
 },
 "nbformat": 4,
 "nbformat_minor": 5
}
