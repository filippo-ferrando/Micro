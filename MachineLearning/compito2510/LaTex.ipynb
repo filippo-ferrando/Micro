{
 "cells": [
  {
   "cell_type": "markdown",
   "id": "1defe69f",
   "metadata": {},
   "source": [
    "## LaTex - Scrittura formule matematiche\n",
    "\n",
    "$I_G(X)=1-\\sum_{i=1}^m{p^2_1}$\n",
    "\n",
    "$\\lim_{n\\to\\infty}\\sum_{k=1}^n\\frac{1}{k^2}=\\frac{\\pi^2}{6}\\$\n",
    "\n",
    "$\\sqrt{x}\\quad \\sqrt[3]{2}$\n",
    "\n",
    "$f(x_1, \\dots,x_n)=\\prod {k=1}^n x_k$\n",
    "\n",
    " $c_{ij} = \\sum_{k=1}^m{a_{ik} \\times b_{kj}}$"
   ]
  },
  {
   "cell_type": "markdown",
   "id": "84b9ad87",
   "metadata": {},
   "source": [
    "## Shortcut\n",
    "\n",
    "<img src=\"https://upload.wikimedia.org/wikipedia/commons/3/38/Jupyter_logo.svg\" alt=\"Jupyter\" width=100px/>\n",
    "\n",
    "### Le scorciatorie utili in command mode\n",
    "\n",
    "Per poterle usare entrare in *command mode* con ```ESC```(bordo blu)\n",
    " - ```INVIO``` entra in *editing mode*\n",
    " - ```a``` inserisce una nuova cella sopra (above) la corrente\n",
    " - ```b``` inserisce una nuova cella sotto (below) la corrente\n",
    " - ```CTRL+INVIO``` esegue la cella corrente e resta in essa\n",
    " - ```SHIFT+INVIO``` esegue la cella corrente e ne crea una nuova sotto di essa\n",
    " - ```m``` trasforma la cella corrente in tipo *Markdown*\n",
    " - ```y``` trasforma la cella corrente in tipo *Code*\n",
    " - ```d d``` elimina la cella corrente\n",
    " - ```x``` ```c``` ```v``` taglia o copia la cella corrente e la incolla nella cella sotto ( ```SHIFT + v``` la incolla sopra)\n",
    " - ```z``` annulla l'ultima operazione\n",
    " - ```FRECCIA SU``` o ```GIU``` per spostarsi fra le celle"
   ]
  },
  {
   "cell_type": "markdown",
   "id": "b4efa8c7",
   "metadata": {},
   "source": [
    "## Le scorciatoie utili in editing mode\n",
    "**Le seguenti sono utili nelle celle di tipo *Code***\n",
    " - ```SHIFT + TAB``` su un oggetto del codice mostra la documentazione (Docstring)\n",
    " - ```CTRL + SHIFT + -``` divide la cella corrente nel punto dove si trova il cursore\n",
    " - ```ESC + F``` apre la finestra di dialogo *Trova e sostituisci*\n",
    " - ```SHIFT + L``` mostra i numeri di riga"
   ]
  },
  {
   "cell_type": "markdown",
   "id": "7ce0e874",
   "metadata": {},
   "source": [
    "## Altre scorciatoie utili\n",
    "\n",
    "|Modalità|Menu|Shortcut|Azione|\n",
    "|:-------|:--:|:------:|:-----|\n",
    "|indifferente|File|```CTRL + S```|Salva il documento|\n",
    "|Command mode|Kernel|```i i```|Interrompere l'esecuzione\n",
    "|Command mode|Kernel|``` 0 0```|Interrompere l'esecuzione\n",
    "|Command mode|Kernel|```h```|Visualizza l'elenco delle shortcut|"
   ]
  },
  {
   "cell_type": "code",
   "execution_count": null,
   "id": "a2d06074",
   "metadata": {},
   "outputs": [],
   "source": []
  }
 ],
 "metadata": {
  "kernelspec": {
   "display_name": "Python 3 (ipykernel)",
   "language": "python",
   "name": "python3"
  },
  "language_info": {
   "codemirror_mode": {
    "name": "ipython",
    "version": 3
   },
   "file_extension": ".py",
   "mimetype": "text/x-python",
   "name": "python",
   "nbconvert_exporter": "python",
   "pygments_lexer": "ipython3",
   "version": "3.9.7"
  }
 },
 "nbformat": 4,
 "nbformat_minor": 5
}
