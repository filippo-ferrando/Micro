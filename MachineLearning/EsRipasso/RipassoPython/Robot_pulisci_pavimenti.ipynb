{
 "cells": [
  {
   "cell_type": "markdown",
   "id": "7f9731c5",
   "metadata": {},
   "source": [
    "# Esercizio robot pulisci-pavimenti\n",
    "### Il software di controllo di un robot pulisci-pavimenti registra la posizione del robot ogni secondo, registrando le coordinate x e y del robot misurate rispetto alla sua base di ricarica, posizionata nella cella (0,0) nell'angolo in alto a sinistra di una stanza che misura 3m x 3m. Il robot ogni secondo può rimanere nella stessa posizione oppure spostarsi verso il basso e/o verso destra. Questi dati sono registrati in un dizionario posizioni in cui ogni elemento ha come chiave il tempo in secondi trascorso dall'accensione e come valore la tupla delle coordinate (x,y).\n",
    "### Creare i dati di esempio considerando che il robot si sia spostato per 20 secondi. All'inizio ovvero al tempo 0, la posizione del robot è alla base con coordinate (0,0), mentre al tempo 20 è nella sua ultima posizione. Utilizzare la funzione np.cumsum() che calcola per ogni elemento la somma dei valori fino a quel indice (per esempio np.cumsum([1,2,3]) restituisce [1,3,6]). \n",
    "### creare quindi la matrice avente 2 colonne e 21righe (posizioni contiene 21 coppie di coordinate) contenente tutte le coordinate raggiunte dal robot;\n",
    "### calcolare quanto spazio ha percorso il robot, sapendo che le coordinate sono espresse in decimetri. Si ipotizza che il robot segua una traiettoria rettilinea tra un punto ed il successivo per cui per calcolare la distanza tra le varie coordinate utilizzare la formula:\n"
   ]
  },
  {
   "cell_type": "code",
   "execution_count": 6,
   "id": "7d553932",
   "metadata": {},
   "outputs": [
    {
     "name": "stdout",
     "output_type": "stream",
     "text": [
      "17.48528137423857\n"
     ]
    }
   ],
   "source": [
    "import math\n",
    "\n",
    "durata=20\n",
    "posizioni={0:(0,0)}\n",
    "\n",
    "x=np.cumsum(np.random.randint(0,2,size=durata))\n",
    "y=np.cumsum(np.random.randint(0,2,size=durata))\n",
    "\n",
    "for i in range (1, durata+1):\n",
    "    posizioni[i]=(x[i-1],y[i-1])\n",
    "    \n",
    "pav=np.stack((x,y), axis=1)\n",
    "pav=np.concatenate(([[0,0]],pav),axis=0)\n",
    "pav_roll=np.roll(pav,-1,axis=0)\n",
    "spazio=np.sum(np.sqrt((pav_roll[:-1,0] - pav[:-1,0])**2 + (pav_roll[:-1,1] - pav[:-1,1])**2))\n",
    "\n",
    "print(spazio)"
   ]
  },
  {
   "cell_type": "code",
   "execution_count": null,
   "id": "e71774d7",
   "metadata": {},
   "outputs": [],
   "source": []
  }
 ],
 "metadata": {
  "kernelspec": {
   "display_name": "Python 3",
   "language": "python",
   "name": "python3"
  },
  "language_info": {
   "codemirror_mode": {
    "name": "ipython",
    "version": 3
   },
   "file_extension": ".py",
   "mimetype": "text/x-python",
   "name": "python",
   "nbconvert_exporter": "python",
   "pygments_lexer": "ipython3",
   "version": "3.8.8"
  }
 },
 "nbformat": 4,
 "nbformat_minor": 5
}
