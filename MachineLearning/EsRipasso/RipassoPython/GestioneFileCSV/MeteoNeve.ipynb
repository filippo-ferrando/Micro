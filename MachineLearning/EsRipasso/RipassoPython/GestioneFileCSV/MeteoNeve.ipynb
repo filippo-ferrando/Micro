{
 "cells": [
  {
   "cell_type": "code",
   "execution_count": 15,
   "id": "baf991d6",
   "metadata": {},
   "outputs": [
    {
     "name": "stdout",
     "output_type": "stream",
     "text": [
      "1100\n"
     ]
    }
   ],
   "source": [
    "import numpy as np\n",
    "\n",
    "file2 = open(\"meteoNeve/richiesta_dati_gg_80749_parte2.csv\").readlines()\n",
    "file4 = open(\"meteoNeve/richiesta_dati_gg_80749_parte4.csv\").readlines()\n",
    "array2 = []\n",
    "array4 = []\n",
    "\n",
    "for riga in file2[10:-1]:\n",
    "    if riga.split(',')[1] != '  ':\n",
    "        #print(riga)\n",
    "        array2.append(riga.split(',')[1])\n",
    "\n",
    "for riga in file4[10:-1]:\n",
    "    if riga.split(',')[1] != '  ':\n",
    "        #print(riga)\n",
    "        array4.append(riga[:-1].split(','))     \n",
    "\n",
    "neveDiga = np.array(array2, np.uint8)\n",
    "neveColle = np.array(array4)[:,1]\n",
    "#print(neveDiga)\n",
    "#print(neveColle)\n",
    "print(np.sum(neveDiga == 0) + np.sum(neveColle == '     0 '))"
   ]
  },
  {
   "cell_type": "code",
   "execution_count": null,
   "id": "8a20ac96",
   "metadata": {},
   "outputs": [],
   "source": []
  }
 ],
 "metadata": {
  "kernelspec": {
   "display_name": "Python 3",
   "language": "python",
   "name": "python3"
  },
  "language_info": {
   "codemirror_mode": {
    "name": "ipython",
    "version": 3
   },
   "file_extension": ".py",
   "mimetype": "text/x-python",
   "name": "python",
   "nbconvert_exporter": "python",
   "pygments_lexer": "ipython3",
   "version": "3.8.8"
  }
 },
 "nbformat": 4,
 "nbformat_minor": 5
}
